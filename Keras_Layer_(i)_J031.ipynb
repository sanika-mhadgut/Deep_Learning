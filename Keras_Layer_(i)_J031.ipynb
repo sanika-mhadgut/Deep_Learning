{
  "nbformat": 4,
  "nbformat_minor": 0,
  "metadata": {
    "colab": {
      "name": "Keras Layer (i)_J031",
      "provenance": [],
      "collapsed_sections": [],
      "include_colab_link": true
    },
    "kernelspec": {
      "name": "python3",
      "display_name": "Python 3"
    }
  },
  "cells": [
    {
      "cell_type": "markdown",
      "metadata": {
        "id": "view-in-github",
        "colab_type": "text"
      },
      "source": [
        "<a href=\"https://colab.research.google.com/github/sanika-mhadgut/Deep_Learning/blob/master/Keras_Layer_(i)_J031.ipynb\" target=\"_parent\"><img src=\"https://colab.research.google.com/assets/colab-badge.svg\" alt=\"Open In Colab\"/></a>"
      ]
    },
    {
      "cell_type": "markdown",
      "metadata": {
        "id": "tS_fAwd-R4ub",
        "colab_type": "text"
      },
      "source": [
        "#Name : Sanika Mhadgut\n",
        "#Branch : Btech Data Science sem 6\n",
        "#Roll No: J031\n"
      ]
    },
    {
      "cell_type": "code",
      "metadata": {
        "id": "fF0V0dI4R8lL",
        "colab_type": "code",
        "colab": {
          "base_uri": "https://localhost:8080/",
          "height": 204
        },
        "outputId": "13644356-3462-4176-f1d4-d5a5e3c60e15"
      },
      "source": [
        "\n",
        "!wget  http://upscfever.com/datasets/pima-indians-diabetes.data.csv  -P drive/app\n"
      ],
      "execution_count": 1,
      "outputs": [
        {
          "output_type": "stream",
          "text": [
            "--2020-02-12 12:03:25--  http://upscfever.com/datasets/pima-indians-diabetes.data.csv\n",
            "Resolving upscfever.com (upscfever.com)... 104.27.177.133, 104.27.176.133, 2606:4700:3037::681b:b085, ...\n",
            "Connecting to upscfever.com (upscfever.com)|104.27.177.133|:80... connected.\n",
            "HTTP request sent, awaiting response... 200 OK\n",
            "Length: unspecified [text/csv]\n",
            "Saving to: ‘drive/app/pima-indians-diabetes.data.csv’\n",
            "\n",
            "\r          pima-indi     [<=>                 ]       0  --.-KB/s               \rpima-indians-diabet     [ <=>                ]  22.73K  --.-KB/s    in 0s      \n",
            "\n",
            "2020-02-12 12:03:26 (551 MB/s) - ‘drive/app/pima-indians-diabetes.data.csv’ saved [23278]\n",
            "\n"
          ],
          "name": "stdout"
        }
      ]
    },
    {
      "cell_type": "code",
      "metadata": {
        "id": "s1_Skf-OFeEI",
        "colab_type": "code",
        "colab": {
          "base_uri": "https://localhost:8080/",
          "height": 80
        },
        "outputId": "6421be87-9eab-42fc-f263-a13b2ab42f6a"
      },
      "source": [
        "import pandas as pd\n",
        "import numpy as np\n",
        "from numpy import loadtxt\n",
        "import keras\n",
        "from keras.models import Sequential\n",
        "from keras.layers import Dense\n",
        "dataset = loadtxt('drive/app/pima-indians-diabetes.data.csv', delimiter=',')\n",
        "# split into input (X) and output (y) variables\n",
        "X = dataset[:,0:8]\n",
        "y = dataset[:,8]"
      ],
      "execution_count": 2,
      "outputs": [
        {
          "output_type": "stream",
          "text": [
            "Using TensorFlow backend.\n"
          ],
          "name": "stderr"
        },
        {
          "output_type": "display_data",
          "data": {
            "text/html": [
              "<p style=\"color: red;\">\n",
              "The default version of TensorFlow in Colab will soon switch to TensorFlow 2.x.<br>\n",
              "We recommend you <a href=\"https://www.tensorflow.org/guide/migrate\" target=\"_blank\">upgrade</a> now \n",
              "or ensure your notebook will continue to use TensorFlow 1.x via the <code>%tensorflow_version 1.x</code> magic:\n",
              "<a href=\"https://colab.research.google.com/notebooks/tensorflow_version.ipynb\" target=\"_blank\">more info</a>.</p>\n"
            ],
            "text/plain": [
              "<IPython.core.display.HTML object>"
            ]
          },
          "metadata": {
            "tags": []
          }
        }
      ]
    },
    {
      "cell_type": "code",
      "metadata": {
        "id": "6AmPKzEUPSR5",
        "colab_type": "code",
        "outputId": "38951d52-320f-495f-f290-37449b8759f6",
        "colab": {
          "base_uri": "https://localhost:8080/",
          "height": 139
        }
      },
      "source": [
        "# define the keras model\n",
        "model = Sequential()\n",
        "model.add(Dense(units=12, input_dim=8, activation='relu', use_bias=True, kernel_initializer='glorot_uniform', bias_initializer='zeros', kernel_regularizer=keras.regularizers.l1_l2(l1=0.01, l2=0.01), bias_regularizer=keras.regularizers.l1_l2(l1=0.01, l2=0.01), activity_regularizer=keras.regularizers.l1_l2(l1=0.01, l2=0.01), kernel_constraint=keras.constraints.MinMaxNorm(min_value=0.0, max_value=1.0, rate=1.0, axis=0), bias_constraint=keras.constraints.MinMaxNorm(min_value=0.0, max_value=1.0, rate=1.0, axis=0)))\n",
        "model.add(Dense(units=8, activation='relu', use_bias=True, kernel_initializer='glorot_uniform', bias_initializer='zeros', kernel_regularizer=keras.regularizers.l1_l2(l1=0.01, l2=0.01), bias_regularizer=keras.regularizers.l1_l2(l1=0.01, l2=0.01), activity_regularizer=keras.regularizers.l1_l2(l1=0.01, l2=0.01), kernel_constraint=keras.constraints.MinMaxNorm(min_value=0.0, max_value=1.0, rate=1.0, axis=0), bias_constraint=keras.constraints.MinMaxNorm(min_value=0.0, max_value=1.0, rate=1.0, axis=0)))\n",
        "model.add(Dense(units=1, activation='sigmoid', kernel_initializer='glorot_uniform', bias_initializer='zeros', kernel_regularizer=keras.regularizers.l1_l2(l1=0.01, l2=0.01), bias_regularizer=keras.regularizers.l1_l2(l1=0.01, l2=0.01), activity_regularizer=keras.regularizers.l1_l2(l1=0.01, l2=0.01), kernel_constraint=keras.constraints.MinMaxNorm(min_value=0.0, max_value=1.0, rate=1.0, axis=0), bias_constraint=keras.constraints.MinMaxNorm(min_value=0.0, max_value=1.0, rate=1.0, axis=0)))"
      ],
      "execution_count": 3,
      "outputs": [
        {
          "output_type": "stream",
          "text": [
            "WARNING:tensorflow:From /usr/local/lib/python3.6/dist-packages/keras/backend/tensorflow_backend.py:66: The name tf.get_default_graph is deprecated. Please use tf.compat.v1.get_default_graph instead.\n",
            "\n",
            "WARNING:tensorflow:From /usr/local/lib/python3.6/dist-packages/keras/backend/tensorflow_backend.py:541: The name tf.placeholder is deprecated. Please use tf.compat.v1.placeholder instead.\n",
            "\n",
            "WARNING:tensorflow:From /usr/local/lib/python3.6/dist-packages/keras/backend/tensorflow_backend.py:4432: The name tf.random_uniform is deprecated. Please use tf.random.uniform instead.\n",
            "\n"
          ],
          "name": "stdout"
        }
      ]
    },
    {
      "cell_type": "code",
      "metadata": {
        "id": "2ZuwuMKnPYmG",
        "colab_type": "code",
        "outputId": "492ec0bd-ec46-4404-8831-d1a26731647f",
        "colab": {
          "base_uri": "https://localhost:8080/",
          "height": 156
        }
      },
      "source": [
        "# compile the keras model\n",
        "model.compile(loss='binary_crossentropy', optimizer='adam', metrics=['accuracy'])"
      ],
      "execution_count": 4,
      "outputs": [
        {
          "output_type": "stream",
          "text": [
            "WARNING:tensorflow:From /usr/local/lib/python3.6/dist-packages/keras/optimizers.py:793: The name tf.train.Optimizer is deprecated. Please use tf.compat.v1.train.Optimizer instead.\n",
            "\n",
            "WARNING:tensorflow:From /usr/local/lib/python3.6/dist-packages/keras/backend/tensorflow_backend.py:3657: The name tf.log is deprecated. Please use tf.math.log instead.\n",
            "\n",
            "WARNING:tensorflow:From /usr/local/lib/python3.6/dist-packages/tensorflow_core/python/ops/nn_impl.py:183: where (from tensorflow.python.ops.array_ops) is deprecated and will be removed in a future version.\n",
            "Instructions for updating:\n",
            "Use tf.where in 2.0, which has the same broadcast rule as np.where\n"
          ],
          "name": "stdout"
        }
      ]
    },
    {
      "cell_type": "code",
      "metadata": {
        "id": "CZEfOOVYPdQA",
        "colab_type": "code",
        "outputId": "eb0c452a-9d96-4625-a567-11c94a11f17a",
        "colab": {
          "base_uri": "https://localhost:8080/",
          "height": 1000
        }
      },
      "source": [
        "# fit the keras model on the dataset\n",
        "model.fit(X, y, epochs=150, batch_size=10)"
      ],
      "execution_count": 5,
      "outputs": [
        {
          "output_type": "stream",
          "text": [
            "WARNING:tensorflow:From /usr/local/lib/python3.6/dist-packages/keras/backend/tensorflow_backend.py:1033: The name tf.assign_add is deprecated. Please use tf.compat.v1.assign_add instead.\n",
            "\n",
            "WARNING:tensorflow:From /usr/local/lib/python3.6/dist-packages/keras/backend/tensorflow_backend.py:1020: The name tf.assign is deprecated. Please use tf.compat.v1.assign instead.\n",
            "\n",
            "WARNING:tensorflow:From /usr/local/lib/python3.6/dist-packages/keras/backend/tensorflow_backend.py:3005: The name tf.Session is deprecated. Please use tf.compat.v1.Session instead.\n",
            "\n",
            "Epoch 1/150\n",
            "WARNING:tensorflow:From /usr/local/lib/python3.6/dist-packages/keras/backend/tensorflow_backend.py:190: The name tf.get_default_session is deprecated. Please use tf.compat.v1.get_default_session instead.\n",
            "\n",
            "WARNING:tensorflow:From /usr/local/lib/python3.6/dist-packages/keras/backend/tensorflow_backend.py:197: The name tf.ConfigProto is deprecated. Please use tf.compat.v1.ConfigProto instead.\n",
            "\n",
            "WARNING:tensorflow:From /usr/local/lib/python3.6/dist-packages/keras/backend/tensorflow_backend.py:207: The name tf.global_variables is deprecated. Please use tf.compat.v1.global_variables instead.\n",
            "\n",
            "WARNING:tensorflow:From /usr/local/lib/python3.6/dist-packages/keras/backend/tensorflow_backend.py:216: The name tf.is_variable_initialized is deprecated. Please use tf.compat.v1.is_variable_initialized instead.\n",
            "\n",
            "WARNING:tensorflow:From /usr/local/lib/python3.6/dist-packages/keras/backend/tensorflow_backend.py:223: The name tf.variables_initializer is deprecated. Please use tf.compat.v1.variables_initializer instead.\n",
            "\n",
            "768/768 [==============================] - 1s 1ms/step - loss: 2862.3684 - acc: 0.6237\n",
            "Epoch 2/150\n",
            "768/768 [==============================] - 0s 169us/step - loss: 1280.8936 - acc: 0.5833\n",
            "Epoch 3/150\n",
            "768/768 [==============================] - 0s 144us/step - loss: 636.0509 - acc: 0.5339\n",
            "Epoch 4/150\n",
            "768/768 [==============================] - 0s 154us/step - loss: 334.7474 - acc: 0.5260\n",
            "Epoch 5/150\n",
            "768/768 [==============================] - 0s 145us/step - loss: 185.9318 - acc: 0.5208\n",
            "Epoch 6/150\n",
            "768/768 [==============================] - 0s 156us/step - loss: 108.3941 - acc: 0.5885\n",
            "Epoch 7/150\n",
            "768/768 [==============================] - 0s 144us/step - loss: 65.9715 - acc: 0.6224\n",
            "Epoch 8/150\n",
            "768/768 [==============================] - 0s 139us/step - loss: 41.6098 - acc: 0.6367\n",
            "Epoch 9/150\n",
            "768/768 [==============================] - 0s 142us/step - loss: 27.2598 - acc: 0.6654\n",
            "Epoch 10/150\n",
            "768/768 [==============================] - 0s 141us/step - loss: 18.6952 - acc: 0.6654\n",
            "Epoch 11/150\n",
            "768/768 [==============================] - 0s 150us/step - loss: 13.3376 - acc: 0.6563\n",
            "Epoch 12/150\n",
            "768/768 [==============================] - 0s 145us/step - loss: 9.9390 - acc: 0.6576\n",
            "Epoch 13/150\n",
            "768/768 [==============================] - 0s 150us/step - loss: 7.6911 - acc: 0.6602\n",
            "Epoch 14/150\n",
            "768/768 [==============================] - 0s 149us/step - loss: 6.1347 - acc: 0.6602\n",
            "Epoch 15/150\n",
            "768/768 [==============================] - 0s 152us/step - loss: 5.0623 - acc: 0.6641\n",
            "Epoch 16/150\n",
            "768/768 [==============================] - 0s 151us/step - loss: 4.2764 - acc: 0.6667\n",
            "Epoch 17/150\n",
            "768/768 [==============================] - 0s 150us/step - loss: 3.6989 - acc: 0.6641\n",
            "Epoch 18/150\n",
            "768/768 [==============================] - 0s 146us/step - loss: 3.2602 - acc: 0.6615\n",
            "Epoch 19/150\n",
            "768/768 [==============================] - 0s 158us/step - loss: 2.9144 - acc: 0.6563\n",
            "Epoch 20/150\n",
            "768/768 [==============================] - 0s 152us/step - loss: 2.6375 - acc: 0.6563\n",
            "Epoch 21/150\n",
            "768/768 [==============================] - 0s 149us/step - loss: 2.4250 - acc: 0.6523\n",
            "Epoch 22/150\n",
            "768/768 [==============================] - 0s 150us/step - loss: 2.2454 - acc: 0.6523\n",
            "Epoch 23/150\n",
            "768/768 [==============================] - 0s 151us/step - loss: 2.0970 - acc: 0.6510\n",
            "Epoch 24/150\n",
            "768/768 [==============================] - 0s 151us/step - loss: 1.9724 - acc: 0.6510\n",
            "Epoch 25/150\n",
            "768/768 [==============================] - 0s 154us/step - loss: 1.8727 - acc: 0.6510\n",
            "Epoch 26/150\n",
            "768/768 [==============================] - 0s 153us/step - loss: 1.7769 - acc: 0.6510\n",
            "Epoch 27/150\n",
            "768/768 [==============================] - 0s 203us/step - loss: 1.7061 - acc: 0.6510\n",
            "Epoch 28/150\n",
            "768/768 [==============================] - 0s 158us/step - loss: 1.6406 - acc: 0.6510\n",
            "Epoch 29/150\n",
            "768/768 [==============================] - 0s 154us/step - loss: 1.5852 - acc: 0.6510\n",
            "Epoch 30/150\n",
            "768/768 [==============================] - 0s 154us/step - loss: 1.5342 - acc: 0.6510\n",
            "Epoch 31/150\n",
            "768/768 [==============================] - 0s 169us/step - loss: 1.4901 - acc: 0.6510\n",
            "Epoch 32/150\n",
            "768/768 [==============================] - 0s 152us/step - loss: 1.4511 - acc: 0.6510\n",
            "Epoch 33/150\n",
            "768/768 [==============================] - 0s 155us/step - loss: 1.4164 - acc: 0.6510\n",
            "Epoch 34/150\n",
            "768/768 [==============================] - 0s 148us/step - loss: 1.3838 - acc: 0.6510\n",
            "Epoch 35/150\n",
            "768/768 [==============================] - 0s 157us/step - loss: 1.3567 - acc: 0.6510\n",
            "Epoch 36/150\n",
            "768/768 [==============================] - 0s 149us/step - loss: 1.3320 - acc: 0.6510\n",
            "Epoch 37/150\n",
            "768/768 [==============================] - 0s 146us/step - loss: 1.3092 - acc: 0.6510\n",
            "Epoch 38/150\n",
            "768/768 [==============================] - 0s 145us/step - loss: 1.2884 - acc: 0.6510\n",
            "Epoch 39/150\n",
            "768/768 [==============================] - 0s 149us/step - loss: 1.2701 - acc: 0.6510\n",
            "Epoch 40/150\n",
            "768/768 [==============================] - 0s 152us/step - loss: 1.2536 - acc: 0.6510\n",
            "Epoch 41/150\n",
            "768/768 [==============================] - 0s 148us/step - loss: 1.2380 - acc: 0.6510\n",
            "Epoch 42/150\n",
            "768/768 [==============================] - 0s 143us/step - loss: 1.2239 - acc: 0.6510\n",
            "Epoch 43/150\n",
            "768/768 [==============================] - 0s 148us/step - loss: 1.2115 - acc: 0.6510\n",
            "Epoch 44/150\n",
            "768/768 [==============================] - 0s 151us/step - loss: 1.1995 - acc: 0.6510\n",
            "Epoch 45/150\n",
            "768/768 [==============================] - 0s 150us/step - loss: 1.1888 - acc: 0.6510\n",
            "Epoch 46/150\n",
            "768/768 [==============================] - 0s 156us/step - loss: 1.1796 - acc: 0.6510\n",
            "Epoch 47/150\n",
            "768/768 [==============================] - 0s 150us/step - loss: 1.1705 - acc: 0.6510\n",
            "Epoch 48/150\n",
            "768/768 [==============================] - 0s 147us/step - loss: 1.1629 - acc: 0.6510\n",
            "Epoch 49/150\n",
            "768/768 [==============================] - 0s 146us/step - loss: 1.1545 - acc: 0.6510\n",
            "Epoch 50/150\n",
            "768/768 [==============================] - 0s 153us/step - loss: 1.1472 - acc: 0.6510\n",
            "Epoch 51/150\n",
            "768/768 [==============================] - 0s 149us/step - loss: 1.1398 - acc: 0.6510\n",
            "Epoch 52/150\n",
            "768/768 [==============================] - 0s 149us/step - loss: 1.1338 - acc: 0.6510\n",
            "Epoch 53/150\n",
            "768/768 [==============================] - 0s 141us/step - loss: 1.1277 - acc: 0.6510\n",
            "Epoch 54/150\n",
            "768/768 [==============================] - 0s 150us/step - loss: 1.1216 - acc: 0.6510\n",
            "Epoch 55/150\n",
            "768/768 [==============================] - 0s 146us/step - loss: 1.1160 - acc: 0.6510\n",
            "Epoch 56/150\n",
            "768/768 [==============================] - 0s 144us/step - loss: 1.1113 - acc: 0.6510\n",
            "Epoch 57/150\n",
            "768/768 [==============================] - 0s 142us/step - loss: 1.1065 - acc: 0.6510\n",
            "Epoch 58/150\n",
            "768/768 [==============================] - 0s 146us/step - loss: 1.1009 - acc: 0.6510\n",
            "Epoch 59/150\n",
            "768/768 [==============================] - 0s 157us/step - loss: 1.0959 - acc: 0.6510\n",
            "Epoch 60/150\n",
            "768/768 [==============================] - 0s 158us/step - loss: 1.0906 - acc: 0.6510\n",
            "Epoch 61/150\n",
            "768/768 [==============================] - 0s 163us/step - loss: 1.0855 - acc: 0.6510\n",
            "Epoch 62/150\n",
            "768/768 [==============================] - 0s 150us/step - loss: 1.0809 - acc: 0.6510\n",
            "Epoch 63/150\n",
            "768/768 [==============================] - 0s 149us/step - loss: 1.0765 - acc: 0.6510\n",
            "Epoch 64/150\n",
            "768/768 [==============================] - 0s 151us/step - loss: 1.0719 - acc: 0.6510\n",
            "Epoch 65/150\n",
            "768/768 [==============================] - 0s 152us/step - loss: 1.0678 - acc: 0.6510\n",
            "Epoch 66/150\n",
            "768/768 [==============================] - 0s 159us/step - loss: 1.0642 - acc: 0.6510\n",
            "Epoch 67/150\n",
            "768/768 [==============================] - 0s 156us/step - loss: 1.0597 - acc: 0.6510\n",
            "Epoch 68/150\n",
            "768/768 [==============================] - 0s 162us/step - loss: 1.0552 - acc: 0.6510\n",
            "Epoch 69/150\n",
            "768/768 [==============================] - 0s 151us/step - loss: 1.0511 - acc: 0.6510\n",
            "Epoch 70/150\n",
            "768/768 [==============================] - 0s 154us/step - loss: 1.0470 - acc: 0.6510\n",
            "Epoch 71/150\n",
            "768/768 [==============================] - 0s 157us/step - loss: 1.0431 - acc: 0.6510\n",
            "Epoch 72/150\n",
            "768/768 [==============================] - 0s 154us/step - loss: 1.0392 - acc: 0.6510\n",
            "Epoch 73/150\n",
            "768/768 [==============================] - 0s 164us/step - loss: 1.0354 - acc: 0.6510\n",
            "Epoch 74/150\n",
            "768/768 [==============================] - 0s 151us/step - loss: 1.0314 - acc: 0.6510\n",
            "Epoch 75/150\n",
            "768/768 [==============================] - 0s 151us/step - loss: 1.0277 - acc: 0.6510\n",
            "Epoch 76/150\n",
            "768/768 [==============================] - 0s 152us/step - loss: 1.0240 - acc: 0.6510\n",
            "Epoch 77/150\n",
            "768/768 [==============================] - 0s 159us/step - loss: 1.0200 - acc: 0.6510\n",
            "Epoch 78/150\n",
            "768/768 [==============================] - 0s 155us/step - loss: 1.0163 - acc: 0.6510\n",
            "Epoch 79/150\n",
            "768/768 [==============================] - 0s 154us/step - loss: 1.0124 - acc: 0.6510\n",
            "Epoch 80/150\n",
            "768/768 [==============================] - 0s 156us/step - loss: 1.0082 - acc: 0.6510\n",
            "Epoch 81/150\n",
            "768/768 [==============================] - 0s 146us/step - loss: 1.0046 - acc: 0.6510\n",
            "Epoch 82/150\n",
            "768/768 [==============================] - 0s 155us/step - loss: 1.0006 - acc: 0.6510\n",
            "Epoch 83/150\n",
            "768/768 [==============================] - 0s 162us/step - loss: 0.9968 - acc: 0.6510\n",
            "Epoch 84/150\n",
            "768/768 [==============================] - 0s 154us/step - loss: 0.9929 - acc: 0.6510\n",
            "Epoch 85/150\n",
            "768/768 [==============================] - 0s 154us/step - loss: 0.9891 - acc: 0.6510\n",
            "Epoch 86/150\n",
            "768/768 [==============================] - 0s 155us/step - loss: 0.9854 - acc: 0.6510\n",
            "Epoch 87/150\n",
            "768/768 [==============================] - 0s 150us/step - loss: 0.9820 - acc: 0.6510\n",
            "Epoch 88/150\n",
            "768/768 [==============================] - 0s 165us/step - loss: 0.9787 - acc: 0.6510\n",
            "Epoch 89/150\n",
            "768/768 [==============================] - 0s 151us/step - loss: 0.9761 - acc: 0.6510\n",
            "Epoch 90/150\n",
            "768/768 [==============================] - 0s 151us/step - loss: 0.9726 - acc: 0.6510\n",
            "Epoch 91/150\n",
            "768/768 [==============================] - 0s 156us/step - loss: 0.9688 - acc: 0.6510\n",
            "Epoch 92/150\n",
            "768/768 [==============================] - 0s 157us/step - loss: 0.9654 - acc: 0.6510\n",
            "Epoch 93/150\n",
            "768/768 [==============================] - 0s 157us/step - loss: 0.9621 - acc: 0.6510\n",
            "Epoch 94/150\n",
            "768/768 [==============================] - 0s 157us/step - loss: 0.9587 - acc: 0.6510\n",
            "Epoch 95/150\n",
            "768/768 [==============================] - 0s 153us/step - loss: 0.9559 - acc: 0.6510\n",
            "Epoch 96/150\n",
            "768/768 [==============================] - 0s 147us/step - loss: 0.9531 - acc: 0.6510\n",
            "Epoch 97/150\n",
            "768/768 [==============================] - 0s 153us/step - loss: 0.9502 - acc: 0.6510\n",
            "Epoch 98/150\n",
            "768/768 [==============================] - 0s 179us/step - loss: 0.9472 - acc: 0.6510\n",
            "Epoch 99/150\n",
            "768/768 [==============================] - 0s 153us/step - loss: 0.9442 - acc: 0.6510\n",
            "Epoch 100/150\n",
            "768/768 [==============================] - 0s 156us/step - loss: 0.9420 - acc: 0.6510\n",
            "Epoch 101/150\n",
            "768/768 [==============================] - 0s 152us/step - loss: 0.9389 - acc: 0.6510\n",
            "Epoch 102/150\n",
            "768/768 [==============================] - 0s 152us/step - loss: 0.9359 - acc: 0.6510\n",
            "Epoch 103/150\n",
            "768/768 [==============================] - 0s 159us/step - loss: 0.9331 - acc: 0.6510\n",
            "Epoch 104/150\n",
            "768/768 [==============================] - 0s 166us/step - loss: 0.9308 - acc: 0.6510\n",
            "Epoch 105/150\n",
            "768/768 [==============================] - 0s 156us/step - loss: 0.9283 - acc: 0.6510\n",
            "Epoch 106/150\n",
            "768/768 [==============================] - 0s 158us/step - loss: 0.9256 - acc: 0.6510\n",
            "Epoch 107/150\n",
            "768/768 [==============================] - 0s 158us/step - loss: 0.9239 - acc: 0.6510\n",
            "Epoch 108/150\n",
            "768/768 [==============================] - 0s 147us/step - loss: 0.9213 - acc: 0.6510\n",
            "Epoch 109/150\n",
            "768/768 [==============================] - 0s 141us/step - loss: 0.9188 - acc: 0.6510\n",
            "Epoch 110/150\n",
            "768/768 [==============================] - 0s 148us/step - loss: 0.9159 - acc: 0.6510\n",
            "Epoch 111/150\n",
            "768/768 [==============================] - 0s 168us/step - loss: 0.9129 - acc: 0.6510\n",
            "Epoch 112/150\n",
            "768/768 [==============================] - 0s 163us/step - loss: 0.9101 - acc: 0.6510\n",
            "Epoch 113/150\n",
            "768/768 [==============================] - 0s 157us/step - loss: 0.9071 - acc: 0.6510\n",
            "Epoch 114/150\n",
            "768/768 [==============================] - 0s 153us/step - loss: 0.9042 - acc: 0.6510\n",
            "Epoch 115/150\n",
            "768/768 [==============================] - 0s 147us/step - loss: 0.9022 - acc: 0.6510\n",
            "Epoch 116/150\n",
            "768/768 [==============================] - 0s 156us/step - loss: 0.9001 - acc: 0.6510\n",
            "Epoch 117/150\n",
            "768/768 [==============================] - 0s 168us/step - loss: 0.8971 - acc: 0.6510\n",
            "Epoch 118/150\n",
            "768/768 [==============================] - 0s 150us/step - loss: 0.8945 - acc: 0.6510\n",
            "Epoch 119/150\n",
            "768/768 [==============================] - 0s 147us/step - loss: 0.8926 - acc: 0.6510\n",
            "Epoch 120/150\n",
            "768/768 [==============================] - 0s 151us/step - loss: 0.8897 - acc: 0.6510\n",
            "Epoch 121/150\n",
            "768/768 [==============================] - 0s 142us/step - loss: 0.8870 - acc: 0.6510\n",
            "Epoch 122/150\n",
            "768/768 [==============================] - 0s 149us/step - loss: 0.8844 - acc: 0.6510\n",
            "Epoch 123/150\n",
            "768/768 [==============================] - 0s 133us/step - loss: 0.8816 - acc: 0.6510\n",
            "Epoch 124/150\n",
            "768/768 [==============================] - 0s 142us/step - loss: 0.8791 - acc: 0.6510\n",
            "Epoch 125/150\n",
            "768/768 [==============================] - 0s 143us/step - loss: 0.8767 - acc: 0.6510\n",
            "Epoch 126/150\n",
            "768/768 [==============================] - 0s 140us/step - loss: 0.8744 - acc: 0.6510\n",
            "Epoch 127/150\n",
            "768/768 [==============================] - 0s 138us/step - loss: 0.8720 - acc: 0.6510\n",
            "Epoch 128/150\n",
            "768/768 [==============================] - 0s 146us/step - loss: 0.8699 - acc: 0.6510\n",
            "Epoch 129/150\n",
            "768/768 [==============================] - 0s 149us/step - loss: 0.8675 - acc: 0.6510\n",
            "Epoch 130/150\n",
            "768/768 [==============================] - 0s 155us/step - loss: 0.8655 - acc: 0.6510\n",
            "Epoch 131/150\n",
            "768/768 [==============================] - 0s 150us/step - loss: 0.8635 - acc: 0.6510\n",
            "Epoch 132/150\n",
            "768/768 [==============================] - 0s 153us/step - loss: 0.8612 - acc: 0.6510\n",
            "Epoch 133/150\n",
            "768/768 [==============================] - 0s 166us/step - loss: 0.8582 - acc: 0.6510\n",
            "Epoch 134/150\n",
            "768/768 [==============================] - 0s 153us/step - loss: 0.8554 - acc: 0.6510\n",
            "Epoch 135/150\n",
            "768/768 [==============================] - 0s 153us/step - loss: 0.8535 - acc: 0.6510\n",
            "Epoch 136/150\n",
            "768/768 [==============================] - 0s 152us/step - loss: 0.8520 - acc: 0.6510\n",
            "Epoch 137/150\n",
            "768/768 [==============================] - 0s 157us/step - loss: 0.8488 - acc: 0.6510\n",
            "Epoch 138/150\n",
            "768/768 [==============================] - 0s 159us/step - loss: 0.8461 - acc: 0.6510\n",
            "Epoch 139/150\n",
            "768/768 [==============================] - 0s 150us/step - loss: 0.8438 - acc: 0.6510\n",
            "Epoch 140/150\n",
            "768/768 [==============================] - 0s 152us/step - loss: 0.8415 - acc: 0.6510\n",
            "Epoch 141/150\n",
            "768/768 [==============================] - 0s 155us/step - loss: 0.8391 - acc: 0.6510\n",
            "Epoch 142/150\n",
            "768/768 [==============================] - 0s 146us/step - loss: 0.8362 - acc: 0.6510\n",
            "Epoch 143/150\n",
            "768/768 [==============================] - 0s 151us/step - loss: 0.8341 - acc: 0.6510\n",
            "Epoch 144/150\n",
            "768/768 [==============================] - 0s 150us/step - loss: 0.8315 - acc: 0.6510\n",
            "Epoch 145/150\n",
            "768/768 [==============================] - 0s 153us/step - loss: 0.8300 - acc: 0.6510\n",
            "Epoch 146/150\n",
            "768/768 [==============================] - 0s 146us/step - loss: 0.8276 - acc: 0.6510\n",
            "Epoch 147/150\n",
            "768/768 [==============================] - 0s 145us/step - loss: 0.8249 - acc: 0.6510\n",
            "Epoch 148/150\n",
            "768/768 [==============================] - 0s 166us/step - loss: 0.8226 - acc: 0.6510\n",
            "Epoch 149/150\n",
            "768/768 [==============================] - 0s 144us/step - loss: 0.8223 - acc: 0.6510\n",
            "Epoch 150/150\n",
            "768/768 [==============================] - 0s 152us/step - loss: 0.8191 - acc: 0.6510\n"
          ],
          "name": "stdout"
        },
        {
          "output_type": "execute_result",
          "data": {
            "text/plain": [
              "<keras.callbacks.History at 0x7f725475f518>"
            ]
          },
          "metadata": {
            "tags": []
          },
          "execution_count": 5
        }
      ]
    },
    {
      "cell_type": "code",
      "metadata": {
        "id": "3c8Mm28vPf2h",
        "colab_type": "code",
        "outputId": "eecdf8c9-ebf5-4660-c74e-957aabcd528a",
        "colab": {
          "base_uri": "https://localhost:8080/",
          "height": 51
        }
      },
      "source": [
        "# evaluate the keras model\n",
        "_, accuracy = model.evaluate(X, y)\n",
        "print('Accuracy: %.2f' % (accuracy*100))"
      ],
      "execution_count": 6,
      "outputs": [
        {
          "output_type": "stream",
          "text": [
            "768/768 [==============================] - 0s 108us/step\n",
            "Accuracy: 65.10\n"
          ],
          "name": "stdout"
        }
      ]
    }
  ]
}