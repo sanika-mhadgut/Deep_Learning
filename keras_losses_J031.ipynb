{
  "nbformat": 4,
  "nbformat_minor": 0,
  "metadata": {
    "colab": {
      "name": "keras-losses_J031.ipynb",
      "provenance": [],
      "include_colab_link": true
    },
    "kernelspec": {
      "name": "python3",
      "display_name": "Python 3"
    }
  },
  "cells": [
    {
      "cell_type": "markdown",
      "metadata": {
        "id": "view-in-github",
        "colab_type": "text"
      },
      "source": [
        "<a href=\"https://colab.research.google.com/github/sanika-mhadgut/Deep_Learning/blob/master/keras_losses_J031.ipynb\" target=\"_parent\"><img src=\"https://colab.research.google.com/assets/colab-badge.svg\" alt=\"Open In Colab\"/></a>"
      ]
    },
    {
      "cell_type": "markdown",
      "metadata": {
        "id": "2tgSfoXe8XC9",
        "colab_type": "text"
      },
      "source": [
        "## Usage of loss functions"
      ]
    },
    {
      "cell_type": "markdown",
      "metadata": {
        "id": "YO3H8NID6SsQ",
        "colab_type": "text"
      },
      "source": [
        "#Name : Sanika Mhadgut\n",
        "#Branch : Btech Data Science sem 6\n",
        "#Roll No: J031"
      ]
    },
    {
      "cell_type": "code",
      "metadata": {
        "id": "1LuSM19y8SoK",
        "colab_type": "code",
        "outputId": "eee94910-1450-4d46-a7b4-4d5f39858f14",
        "colab": {
          "base_uri": "https://localhost:8080/",
          "height": 234
        }
      },
      "source": [
        "import keras\n",
        "from keras import models\n",
        "from keras.layers import Dense, Dropout\n",
        "from keras.utils import to_categorical\n",
        "from keras.datasets import mnist\n",
        "from keras.utils.vis_utils import model_to_dot\n",
        "from IPython.display import SVG\n",
        "\n",
        "NUM_ROWS = 28\n",
        "NUM_COLS = 28\n",
        "NUM_CLASSES = 10\n",
        "BATCH_SIZE = 128\n",
        "EPOCHS = 10\n",
        "\n",
        "# Load data\n",
        "(X_train, y_train), (X_test, y_test) = mnist.load_data()\n",
        "\n",
        "# Reshape data\n",
        "X_train = X_train.reshape((X_train.shape[0], NUM_ROWS * NUM_COLS))\n",
        "X_train = X_train.astype('float32') / 255\n",
        "X_test = X_test.reshape((X_test.shape[0], NUM_ROWS * NUM_COLS))\n",
        "X_test = X_test.astype('float32') / 255\n",
        "\n",
        "# Categorically encode labels\n",
        "y_train = to_categorical(y_train, NUM_CLASSES)\n",
        "y_test = to_categorical(y_test, NUM_CLASSES)\n",
        "\n",
        "\n",
        "# Build neural network\n",
        "model = models.Sequential()\n",
        "model.add(Dense(512, activation='elu', input_shape=(NUM_ROWS * NUM_COLS,)))\n",
        "model.add(Dense(256, activation='elu'))\n",
        "model.add(Dense(10, activation='softmax'))"
      ],
      "execution_count": 0,
      "outputs": [
        {
          "output_type": "stream",
          "text": [
            "Using TensorFlow backend.\n"
          ],
          "name": "stderr"
        },
        {
          "output_type": "display_data",
          "data": {
            "text/html": [
              "<p style=\"color: red;\">\n",
              "The default version of TensorFlow in Colab will soon switch to TensorFlow 2.x.<br>\n",
              "We recommend you <a href=\"https://www.tensorflow.org/guide/migrate\" target=\"_blank\">upgrade</a> now \n",
              "or ensure your notebook will continue to use TensorFlow 1.x via the <code>%tensorflow_version 1.x</code> magic:\n",
              "<a href=\"https://colab.research.google.com/notebooks/tensorflow_version.ipynb\" target=\"_blank\">more info</a>.</p>\n"
            ],
            "text/plain": [
              "<IPython.core.display.HTML object>"
            ]
          },
          "metadata": {
            "tags": []
          }
        },
        {
          "output_type": "stream",
          "text": [
            "Downloading data from https://s3.amazonaws.com/img-datasets/mnist.npz\n",
            "11493376/11490434 [==============================] - 0s 0us/step\n",
            "WARNING:tensorflow:From /usr/local/lib/python3.6/dist-packages/keras/backend/tensorflow_backend.py:66: The name tf.get_default_graph is deprecated. Please use tf.compat.v1.get_default_graph instead.\n",
            "\n",
            "WARNING:tensorflow:From /usr/local/lib/python3.6/dist-packages/keras/backend/tensorflow_backend.py:541: The name tf.placeholder is deprecated. Please use tf.compat.v1.placeholder instead.\n",
            "\n",
            "WARNING:tensorflow:From /usr/local/lib/python3.6/dist-packages/keras/backend/tensorflow_backend.py:4432: The name tf.random_uniform is deprecated. Please use tf.random.uniform instead.\n",
            "\n"
          ],
          "name": "stdout"
        }
      ]
    },
    {
      "cell_type": "markdown",
      "metadata": {
        "id": "129u7Ev-8jUB",
        "colab_type": "text"
      },
      "source": [
        "## mean_squared_error"
      ]
    },
    {
      "cell_type": "code",
      "metadata": {
        "id": "16rGTaDu8pRD",
        "colab_type": "code",
        "outputId": "4b86792c-8d0e-4bd3-ceab-a1df36924430",
        "colab": {
          "base_uri": "https://localhost:8080/",
          "height": 726
        }
      },
      "source": [
        "# Compile model using accuracy\n",
        "model.compile(optimizer='rmsprop',\n",
        "              loss='mean_squared_error',\n",
        "              metrics=['accuracy'])\n",
        "\n",
        "# Train model\n",
        "model.fit(X_train, y_train,\n",
        "          batch_size=BATCH_SIZE,\n",
        "          epochs=EPOCHS,\n",
        "          verbose=1,\n",
        "          validation_data=(X_test, y_test))\n",
        "\n",
        "score = model.evaluate(X_test, y_test, verbose=0)\n",
        "print('Test loss:', score[0])\n",
        "print('Test accuracy:', score[1])"
      ],
      "execution_count": 0,
      "outputs": [
        {
          "output_type": "stream",
          "text": [
            "WARNING:tensorflow:From /usr/local/lib/python3.6/dist-packages/keras/optimizers.py:793: The name tf.train.Optimizer is deprecated. Please use tf.compat.v1.train.Optimizer instead.\n",
            "\n",
            "WARNING:tensorflow:From /usr/local/lib/python3.6/dist-packages/keras/backend/tensorflow_backend.py:1033: The name tf.assign_add is deprecated. Please use tf.compat.v1.assign_add instead.\n",
            "\n",
            "WARNING:tensorflow:From /usr/local/lib/python3.6/dist-packages/keras/backend/tensorflow_backend.py:1020: The name tf.assign is deprecated. Please use tf.compat.v1.assign instead.\n",
            "\n",
            "WARNING:tensorflow:From /usr/local/lib/python3.6/dist-packages/keras/backend/tensorflow_backend.py:3005: The name tf.Session is deprecated. Please use tf.compat.v1.Session instead.\n",
            "\n",
            "Train on 60000 samples, validate on 10000 samples\n",
            "Epoch 1/10\n",
            "WARNING:tensorflow:From /usr/local/lib/python3.6/dist-packages/keras/backend/tensorflow_backend.py:190: The name tf.get_default_session is deprecated. Please use tf.compat.v1.get_default_session instead.\n",
            "\n",
            "WARNING:tensorflow:From /usr/local/lib/python3.6/dist-packages/keras/backend/tensorflow_backend.py:197: The name tf.ConfigProto is deprecated. Please use tf.compat.v1.ConfigProto instead.\n",
            "\n",
            "WARNING:tensorflow:From /usr/local/lib/python3.6/dist-packages/keras/backend/tensorflow_backend.py:207: The name tf.global_variables is deprecated. Please use tf.compat.v1.global_variables instead.\n",
            "\n",
            "WARNING:tensorflow:From /usr/local/lib/python3.6/dist-packages/keras/backend/tensorflow_backend.py:216: The name tf.is_variable_initialized is deprecated. Please use tf.compat.v1.is_variable_initialized instead.\n",
            "\n",
            "WARNING:tensorflow:From /usr/local/lib/python3.6/dist-packages/keras/backend/tensorflow_backend.py:223: The name tf.variables_initializer is deprecated. Please use tf.compat.v1.variables_initializer instead.\n",
            "\n",
            "60000/60000 [==============================] - 8s 127us/step - loss: 0.0181 - acc: 0.8807 - val_loss: 0.0088 - val_acc: 0.9434\n",
            "Epoch 2/10\n",
            "60000/60000 [==============================] - 7s 118us/step - loss: 0.0075 - acc: 0.9520 - val_loss: 0.0061 - val_acc: 0.9601\n",
            "Epoch 3/10\n",
            "60000/60000 [==============================] - 7s 118us/step - loss: 0.0055 - acc: 0.9651 - val_loss: 0.0052 - val_acc: 0.9674\n",
            "Epoch 4/10\n",
            "60000/60000 [==============================] - 7s 118us/step - loss: 0.0045 - acc: 0.9719 - val_loss: 0.0046 - val_acc: 0.9706\n",
            "Epoch 5/10\n",
            "60000/60000 [==============================] - 7s 119us/step - loss: 0.0040 - acc: 0.9752 - val_loss: 0.0046 - val_acc: 0.9712\n",
            "Epoch 6/10\n",
            "60000/60000 [==============================] - 7s 120us/step - loss: 0.0033 - acc: 0.9793 - val_loss: 0.0041 - val_acc: 0.9743\n",
            "Epoch 7/10\n",
            "60000/60000 [==============================] - 7s 119us/step - loss: 0.0031 - acc: 0.9816 - val_loss: 0.0042 - val_acc: 0.9747\n",
            "Epoch 8/10\n",
            "60000/60000 [==============================] - 7s 119us/step - loss: 0.0028 - acc: 0.9830 - val_loss: 0.0047 - val_acc: 0.9723\n",
            "Epoch 9/10\n",
            "60000/60000 [==============================] - 7s 117us/step - loss: 0.0026 - acc: 0.9846 - val_loss: 0.0040 - val_acc: 0.9769\n",
            "Epoch 10/10\n",
            "60000/60000 [==============================] - 7s 117us/step - loss: 0.0025 - acc: 0.9848 - val_loss: 0.0038 - val_acc: 0.9770\n",
            "Test loss: 0.003827691646693376\n",
            "Test accuracy: 0.977\n"
          ],
          "name": "stdout"
        }
      ]
    },
    {
      "cell_type": "markdown",
      "metadata": {
        "id": "h5CsUrWL8uy4",
        "colab_type": "text"
      },
      "source": [
        "## mean_absolute_error"
      ]
    },
    {
      "cell_type": "code",
      "metadata": {
        "id": "hhxHxmgl8uIo",
        "colab_type": "code",
        "outputId": "633b1dfa-85dc-49b7-f8af-aa2f34a3a8a3",
        "colab": {
          "base_uri": "https://localhost:8080/",
          "height": 403
        }
      },
      "source": [
        "# Compile model using accuracy\n",
        "model.compile(optimizer='rmsprop',\n",
        "              loss='mean_absolute_error',\n",
        "              metrics=['accuracy'])\n",
        "\n",
        "# Train model\n",
        "model.fit(X_train, y_train,\n",
        "          batch_size=BATCH_SIZE,\n",
        "          epochs=EPOCHS,\n",
        "          verbose=1,\n",
        "          validation_data=(X_test, y_test))\n",
        "\n",
        "score = model.evaluate(X_test, y_test, verbose=0)\n",
        "print('Test loss:', score[0])\n",
        "print('Test accuracy:', score[1])"
      ],
      "execution_count": 0,
      "outputs": [
        {
          "output_type": "stream",
          "text": [
            "Train on 60000 samples, validate on 10000 samples\n",
            "Epoch 1/10\n",
            "60000/60000 [==============================] - 7s 121us/step - loss: 0.0028 - acc: 0.9870 - val_loss: 0.0048 - val_acc: 0.9764\n",
            "Epoch 2/10\n",
            "60000/60000 [==============================] - 7s 118us/step - loss: 0.0026 - acc: 0.9876 - val_loss: 0.0041 - val_acc: 0.9801\n",
            "Epoch 3/10\n",
            "60000/60000 [==============================] - 7s 120us/step - loss: 0.0023 - acc: 0.9893 - val_loss: 0.0042 - val_acc: 0.9803\n",
            "Epoch 4/10\n",
            "60000/60000 [==============================] - 7s 120us/step - loss: 0.0022 - acc: 0.9894 - val_loss: 0.0045 - val_acc: 0.9781\n",
            "Epoch 5/10\n",
            "60000/60000 [==============================] - 7s 119us/step - loss: 0.0021 - acc: 0.9900 - val_loss: 0.0047 - val_acc: 0.9773\n",
            "Epoch 6/10\n",
            "60000/60000 [==============================] - 7s 119us/step - loss: 0.0020 - acc: 0.9908 - val_loss: 0.0041 - val_acc: 0.9798\n",
            "Epoch 7/10\n",
            "60000/60000 [==============================] - 7s 118us/step - loss: 0.0019 - acc: 0.9910 - val_loss: 0.0041 - val_acc: 0.9798\n",
            "Epoch 8/10\n",
            "60000/60000 [==============================] - 7s 118us/step - loss: 0.0019 - acc: 0.9909 - val_loss: 0.0043 - val_acc: 0.9791\n",
            "Epoch 9/10\n",
            "60000/60000 [==============================] - 7s 116us/step - loss: 0.0017 - acc: 0.9916 - val_loss: 0.0040 - val_acc: 0.9803\n",
            "Epoch 10/10\n",
            "60000/60000 [==============================] - 7s 118us/step - loss: 0.0016 - acc: 0.9919 - val_loss: 0.0045 - val_acc: 0.9778\n",
            "Test loss: 0.004489596551557024\n",
            "Test accuracy: 0.9778\n"
          ],
          "name": "stdout"
        }
      ]
    },
    {
      "cell_type": "markdown",
      "metadata": {
        "id": "oEBmlbUh81Vk",
        "colab_type": "text"
      },
      "source": [
        "## mean_absolute_percentage_error"
      ]
    },
    {
      "cell_type": "code",
      "metadata": {
        "id": "JbW0D85u80yF",
        "colab_type": "code",
        "outputId": "be933899-89c3-4a49-dfe6-97b95584c985",
        "colab": {
          "base_uri": "https://localhost:8080/",
          "height": 403
        }
      },
      "source": [
        "# Compile model using accuracy\n",
        "model.compile(optimizer='rmsprop',\n",
        "              loss='mean_absolute_percentage_error',\n",
        "              metrics=['accuracy'])\n",
        "\n",
        "# Train model\n",
        "model.fit(X_train, y_train,\n",
        "          batch_size=BATCH_SIZE,\n",
        "          epochs=EPOCHS,\n",
        "          verbose=1,\n",
        "          validation_data=(X_test, y_test))\n",
        "\n",
        "score = model.evaluate(X_test, y_test, verbose=0)\n",
        "print('Test loss:', score[0])\n",
        "print('Test accuracy:', score[1])"
      ],
      "execution_count": 0,
      "outputs": [
        {
          "output_type": "stream",
          "text": [
            "Train on 60000 samples, validate on 10000 samples\n",
            "Epoch 1/10\n",
            "60000/60000 [==============================] - 7s 123us/step - loss: 863951.0249 - acc: 0.9916 - val_loss: 2353631.0714 - val_acc: 0.9764\n",
            "Epoch 2/10\n",
            "60000/60000 [==============================] - 7s 121us/step - loss: 790658.4652 - acc: 0.9923 - val_loss: 1991088.3325 - val_acc: 0.9804\n",
            "Epoch 3/10\n",
            "60000/60000 [==============================] - 7s 120us/step - loss: 761288.7979 - acc: 0.9926 - val_loss: 2025266.2854 - val_acc: 0.9803\n",
            "Epoch 4/10\n",
            "60000/60000 [==============================] - 7s 120us/step - loss: 728879.3321 - acc: 0.9929 - val_loss: 2062635.0300 - val_acc: 0.9796\n",
            "Epoch 5/10\n",
            "60000/60000 [==============================] - 7s 119us/step - loss: 692468.1753 - acc: 0.9932 - val_loss: 1819604.9403 - val_acc: 0.9819\n",
            "Epoch 6/10\n",
            "60000/60000 [==============================] - 7s 120us/step - loss: 712471.9204 - acc: 0.9929 - val_loss: 2011188.6670 - val_acc: 0.9802\n",
            "Epoch 7/10\n",
            "60000/60000 [==============================] - 7s 118us/step - loss: 647725.8850 - acc: 0.9936 - val_loss: 1989018.1186 - val_acc: 0.9803\n",
            "Epoch 8/10\n",
            "60000/60000 [==============================] - 7s 119us/step - loss: 643827.2215 - acc: 0.9937 - val_loss: 1955187.6341 - val_acc: 0.9805\n",
            "Epoch 9/10\n",
            "60000/60000 [==============================] - 7s 120us/step - loss: 633572.6567 - acc: 0.9938 - val_loss: 2001609.4354 - val_acc: 0.9800\n",
            "Epoch 10/10\n",
            "60000/60000 [==============================] - 7s 120us/step - loss: 581679.4837 - acc: 0.9945 - val_loss: 2098291.4378 - val_acc: 0.9791\n",
            "Test loss: 2098291.422087109\n",
            "Test accuracy: 0.9791\n"
          ],
          "name": "stdout"
        }
      ]
    },
    {
      "cell_type": "markdown",
      "metadata": {
        "id": "vcjVECQz8-rE",
        "colab_type": "text"
      },
      "source": [
        "## mean_squared_logarithmic_error"
      ]
    },
    {
      "cell_type": "code",
      "metadata": {
        "id": "qglUeZ7V8-Ib",
        "colab_type": "code",
        "outputId": "4f5c2c34-a824-48b4-fb3f-c98efcc94667",
        "colab": {
          "base_uri": "https://localhost:8080/",
          "height": 507
        }
      },
      "source": [
        "# Compile model using accuracy\n",
        "model.compile(optimizer='rmsprop',\n",
        "              loss='mean_squared_logarithmic_error',\n",
        "              metrics=['accuracy'])\n",
        "\n",
        "# Train model\n",
        "model.fit(X_train, y_train,\n",
        "          batch_size=BATCH_SIZE,\n",
        "          epochs=EPOCHS,\n",
        "          verbose=1,\n",
        "          validation_data=(X_test, y_test))\n",
        "\n",
        "score = model.evaluate(X_test, y_test, verbose=0)\n",
        "print('Test loss:', score[0])\n",
        "print('Test accuracy:', score[1])"
      ],
      "execution_count": 0,
      "outputs": [
        {
          "output_type": "stream",
          "text": [
            "WARNING:tensorflow:From /usr/local/lib/python3.6/dist-packages/keras/backend/tensorflow_backend.py:1702: The name tf.log is deprecated. Please use tf.math.log instead.\n",
            "\n",
            "WARNING:tensorflow:From /usr/local/lib/python3.6/dist-packages/tensorflow_core/python/ops/math_grad.py:1424: where (from tensorflow.python.ops.array_ops) is deprecated and will be removed in a future version.\n",
            "Instructions for updating:\n",
            "Use tf.where in 2.0, which has the same broadcast rule as np.where\n",
            "Train on 60000 samples, validate on 10000 samples\n",
            "Epoch 1/10\n",
            "60000/60000 [==============================] - 8s 128us/step - loss: 5.8307e-04 - acc: 0.9934 - val_loss: 0.0019 - val_acc: 0.9796\n",
            "Epoch 2/10\n",
            "60000/60000 [==============================] - 7s 121us/step - loss: 5.4568e-04 - acc: 0.9938 - val_loss: 0.0018 - val_acc: 0.9797\n",
            "Epoch 3/10\n",
            "60000/60000 [==============================] - 7s 124us/step - loss: 5.4003e-04 - acc: 0.9939 - val_loss: 0.0017 - val_acc: 0.9806\n",
            "Epoch 4/10\n",
            "60000/60000 [==============================] - 7s 120us/step - loss: 5.3173e-04 - acc: 0.9940 - val_loss: 0.0019 - val_acc: 0.9793\n",
            "Epoch 5/10\n",
            "60000/60000 [==============================] - 7s 117us/step - loss: 5.3240e-04 - acc: 0.9940 - val_loss: 0.0020 - val_acc: 0.9778\n",
            "Epoch 6/10\n",
            "60000/60000 [==============================] - 7s 119us/step - loss: 5.3655e-04 - acc: 0.9940 - val_loss: 0.0018 - val_acc: 0.9803\n",
            "Epoch 7/10\n",
            "60000/60000 [==============================] - 7s 119us/step - loss: 4.9710e-04 - acc: 0.9944 - val_loss: 0.0019 - val_acc: 0.9793\n",
            "Epoch 8/10\n",
            "60000/60000 [==============================] - 7s 119us/step - loss: 4.8404e-04 - acc: 0.9947 - val_loss: 0.0019 - val_acc: 0.9791\n",
            "Epoch 9/10\n",
            "60000/60000 [==============================] - 7s 120us/step - loss: 5.0553e-04 - acc: 0.9944 - val_loss: 0.0018 - val_acc: 0.9800\n",
            "Epoch 10/10\n",
            "60000/60000 [==============================] - 7s 120us/step - loss: 4.5298e-04 - acc: 0.9950 - val_loss: 0.0018 - val_acc: 0.9799\n",
            "Test loss: 0.0018249015922233156\n",
            "Test accuracy: 0.9799\n"
          ],
          "name": "stdout"
        }
      ]
    },
    {
      "cell_type": "markdown",
      "metadata": {
        "id": "0UompYcq9HmR",
        "colab_type": "text"
      },
      "source": [
        "## squared_hinge"
      ]
    },
    {
      "cell_type": "code",
      "metadata": {
        "id": "soTJWQqT9K0Z",
        "colab_type": "code",
        "outputId": "fea8ec2b-67d8-4b7a-b3b5-8891e4ad5f3a",
        "colab": {
          "base_uri": "https://localhost:8080/",
          "height": 403
        }
      },
      "source": [
        "# Compile model using accuracy\n",
        "model.compile(optimizer='rmsprop',\n",
        "              loss='squared_hinge',\n",
        "              metrics=['accuracy'])\n",
        "\n",
        "# Train model\n",
        "model.fit(X_train, y_train,\n",
        "          batch_size=BATCH_SIZE,\n",
        "          epochs=EPOCHS,\n",
        "          verbose=1,\n",
        "          validation_data=(X_test, y_test))\n",
        "\n",
        "score = model.evaluate(X_test, y_test, verbose=0)\n",
        "print('Test loss:', score[0])\n",
        "print('Test accuracy:', score[1])"
      ],
      "execution_count": 0,
      "outputs": [
        {
          "output_type": "stream",
          "text": [
            "Train on 60000 samples, validate on 10000 samples\n",
            "Epoch 1/10\n",
            "60000/60000 [==============================] - 7s 124us/step - loss: 0.9005 - acc: 0.9950 - val_loss: 0.9018 - val_acc: 0.9809\n",
            "Epoch 2/10\n",
            "60000/60000 [==============================] - 7s 120us/step - loss: 0.9005 - acc: 0.9950 - val_loss: 0.9022 - val_acc: 0.9773\n",
            "Epoch 3/10\n",
            "60000/60000 [==============================] - 7s 119us/step - loss: 0.9005 - acc: 0.9950 - val_loss: 0.9019 - val_acc: 0.9802\n",
            "Epoch 4/10\n",
            "60000/60000 [==============================] - 7s 120us/step - loss: 0.9005 - acc: 0.9951 - val_loss: 0.9017 - val_acc: 0.9818\n",
            "Epoch 5/10\n",
            "60000/60000 [==============================] - 7s 119us/step - loss: 0.9005 - acc: 0.9952 - val_loss: 0.9020 - val_acc: 0.9794\n",
            "Epoch 6/10\n",
            "60000/60000 [==============================] - 7s 121us/step - loss: 0.9004 - acc: 0.9954 - val_loss: 0.9018 - val_acc: 0.9808\n",
            "Epoch 7/10\n",
            "60000/60000 [==============================] - 7s 120us/step - loss: 0.9004 - acc: 0.9957 - val_loss: 0.9019 - val_acc: 0.9802\n",
            "Epoch 8/10\n",
            "60000/60000 [==============================] - 7s 120us/step - loss: 0.9004 - acc: 0.9958 - val_loss: 0.9019 - val_acc: 0.9801\n",
            "Epoch 9/10\n",
            "60000/60000 [==============================] - 7s 120us/step - loss: 0.9005 - acc: 0.9949 - val_loss: 0.9018 - val_acc: 0.9808\n",
            "Epoch 10/10\n",
            "60000/60000 [==============================] - 7s 120us/step - loss: 0.9004 - acc: 0.9954 - val_loss: 0.9019 - val_acc: 0.9797\n",
            "Test loss: 0.9019026390075684\n",
            "Test accuracy: 0.9797\n"
          ],
          "name": "stdout"
        }
      ]
    },
    {
      "cell_type": "markdown",
      "metadata": {
        "id": "bOfX3cW69OEg",
        "colab_type": "text"
      },
      "source": [
        "## hinge"
      ]
    },
    {
      "cell_type": "code",
      "metadata": {
        "id": "5qEdCErx9Nga",
        "colab_type": "code",
        "outputId": "03c9e3a7-084a-4de6-8040-95b0c58acfe4",
        "colab": {
          "base_uri": "https://localhost:8080/",
          "height": 403
        }
      },
      "source": [
        "# Compile model using accuracy\n",
        "model.compile(optimizer='rmsprop',\n",
        "              loss='hinge',\n",
        "              metrics=['accuracy'])\n",
        "\n",
        "# Train model\n",
        "model.fit(X_train, y_train,\n",
        "          batch_size=BATCH_SIZE,\n",
        "          epochs=EPOCHS,\n",
        "          verbose=1,\n",
        "          validation_data=(X_test, y_test))\n",
        "\n",
        "score = model.evaluate(X_test, y_test, verbose=0)\n",
        "print('Test loss:', score[0])\n",
        "print('Test accuracy:', score[1])"
      ],
      "execution_count": 0,
      "outputs": [
        {
          "output_type": "stream",
          "text": [
            "Train on 60000 samples, validate on 10000 samples\n",
            "Epoch 1/10\n",
            "60000/60000 [==============================] - 7s 123us/step - loss: 0.9004 - acc: 0.9957 - val_loss: 0.9020 - val_acc: 0.9801\n",
            "Epoch 2/10\n",
            "60000/60000 [==============================] - 7s 119us/step - loss: 0.9004 - acc: 0.9956 - val_loss: 0.9019 - val_acc: 0.9809\n",
            "Epoch 3/10\n",
            "60000/60000 [==============================] - 7s 119us/step - loss: 0.9004 - acc: 0.9961 - val_loss: 0.9021 - val_acc: 0.9795\n",
            "Epoch 4/10\n",
            "60000/60000 [==============================] - 7s 119us/step - loss: 0.9004 - acc: 0.9959 - val_loss: 0.9022 - val_acc: 0.9785\n",
            "Epoch 5/10\n",
            "60000/60000 [==============================] - 7s 120us/step - loss: 0.9004 - acc: 0.9961 - val_loss: 0.9020 - val_acc: 0.9798\n",
            "Epoch 6/10\n",
            "60000/60000 [==============================] - 7s 119us/step - loss: 0.9004 - acc: 0.9963 - val_loss: 0.9019 - val_acc: 0.9807\n",
            "Epoch 7/10\n",
            "60000/60000 [==============================] - 7s 119us/step - loss: 0.9004 - acc: 0.9963 - val_loss: 0.9018 - val_acc: 0.9818\n",
            "Epoch 8/10\n",
            "60000/60000 [==============================] - 7s 119us/step - loss: 0.9003 - acc: 0.9965 - val_loss: 0.9020 - val_acc: 0.9803\n",
            "Epoch 9/10\n",
            "60000/60000 [==============================] - 7s 119us/step - loss: 0.9004 - acc: 0.9964 - val_loss: 0.9019 - val_acc: 0.9811\n",
            "Epoch 10/10\n",
            "60000/60000 [==============================] - 7s 118us/step - loss: 0.9004 - acc: 0.9965 - val_loss: 0.9019 - val_acc: 0.9810\n",
            "Test loss: 0.9019011671066284\n",
            "Test accuracy: 0.981\n"
          ],
          "name": "stdout"
        }
      ]
    },
    {
      "cell_type": "markdown",
      "metadata": {
        "id": "TbwmAA7C9SHz",
        "colab_type": "text"
      },
      "source": [
        "## categorical_hinge"
      ]
    },
    {
      "cell_type": "code",
      "metadata": {
        "id": "faIcZkRr9RhJ",
        "colab_type": "code",
        "outputId": "46263200-4023-4910-ab19-7fe0da5df969",
        "colab": {
          "base_uri": "https://localhost:8080/",
          "height": 403
        }
      },
      "source": [
        "# Compile model using accuracy\n",
        "model.compile(optimizer='rmsprop',\n",
        "              loss='categorical_hinge',\n",
        "              metrics=['accuracy'])\n",
        "\n",
        "# Train model\n",
        "model.fit(X_train, y_train,\n",
        "          batch_size=BATCH_SIZE,\n",
        "          epochs=EPOCHS,\n",
        "          verbose=1,\n",
        "          validation_data=(X_test, y_test))\n",
        "\n",
        "score = model.evaluate(X_test, y_test, verbose=0)\n",
        "print('Test loss:', score[0])\n",
        "print('Test accuracy:', score[1])"
      ],
      "execution_count": 0,
      "outputs": [
        {
          "output_type": "stream",
          "text": [
            "Train on 60000 samples, validate on 10000 samples\n",
            "Epoch 1/10\n",
            "60000/60000 [==============================] - 8s 127us/step - loss: 0.0078 - acc: 0.9961 - val_loss: 0.0409 - val_acc: 0.9796\n",
            "Epoch 2/10\n",
            "60000/60000 [==============================] - 7s 121us/step - loss: 0.0071 - acc: 0.9965 - val_loss: 0.0376 - val_acc: 0.9809\n",
            "Epoch 3/10\n",
            "60000/60000 [==============================] - 7s 121us/step - loss: 0.0071 - acc: 0.9965 - val_loss: 0.0397 - val_acc: 0.9799\n",
            "Epoch 4/10\n",
            "60000/60000 [==============================] - 7s 121us/step - loss: 0.0075 - acc: 0.9963 - val_loss: 0.0430 - val_acc: 0.9784\n",
            "Epoch 5/10\n",
            "60000/60000 [==============================] - 7s 120us/step - loss: 0.0072 - acc: 0.9965 - val_loss: 0.0418 - val_acc: 0.9789\n",
            "Epoch 6/10\n",
            "60000/60000 [==============================] - 7s 120us/step - loss: 0.0076 - acc: 0.9963 - val_loss: 0.0388 - val_acc: 0.9807\n",
            "Epoch 7/10\n",
            "60000/60000 [==============================] - 7s 120us/step - loss: 0.0067 - acc: 0.9966 - val_loss: 0.0376 - val_acc: 0.9813\n",
            "Epoch 8/10\n",
            "60000/60000 [==============================] - 7s 119us/step - loss: 0.0073 - acc: 0.9963 - val_loss: 0.0430 - val_acc: 0.9787\n",
            "Epoch 9/10\n",
            "60000/60000 [==============================] - 7s 120us/step - loss: 0.0070 - acc: 0.9966 - val_loss: 0.0408 - val_acc: 0.9796\n",
            "Epoch 10/10\n",
            "60000/60000 [==============================] - 7s 120us/step - loss: 0.0068 - acc: 0.9966 - val_loss: 0.0392 - val_acc: 0.9799\n",
            "Test loss: 0.0391901971909735\n",
            "Test accuracy: 0.9799\n"
          ],
          "name": "stdout"
        }
      ]
    },
    {
      "cell_type": "markdown",
      "metadata": {
        "id": "ZunYuFQI9Xh8",
        "colab_type": "text"
      },
      "source": [
        "## logcosh"
      ]
    },
    {
      "cell_type": "code",
      "metadata": {
        "id": "tjSEHLp29W_s",
        "colab_type": "code",
        "outputId": "dfb729dc-ce31-45df-d5b7-e5811aeea502",
        "colab": {
          "base_uri": "https://localhost:8080/",
          "height": 403
        }
      },
      "source": [
        "# Compile model using accuracy\n",
        "model.compile(optimizer='rmsprop',\n",
        "              loss='logcosh',\n",
        "              metrics=['accuracy'])\n",
        "\n",
        "# Train model\n",
        "model.fit(X_train, y_train,\n",
        "          batch_size=BATCH_SIZE,\n",
        "          epochs=EPOCHS,\n",
        "          verbose=1,\n",
        "          validation_data=(X_test, y_test))\n",
        "\n",
        "score = model.evaluate(X_test, y_test, verbose=0)\n",
        "print('Test loss:', score[0])\n",
        "print('Test accuracy:', score[1])"
      ],
      "execution_count": 0,
      "outputs": [
        {
          "output_type": "stream",
          "text": [
            "Train on 60000 samples, validate on 10000 samples\n",
            "Epoch 1/10\n",
            "60000/60000 [==============================] - 8s 129us/step - loss: 2.8922e-04 - acc: 0.9965 - val_loss: 0.0016 - val_acc: 0.9814\n",
            "Epoch 2/10\n",
            "60000/60000 [==============================] - 7s 124us/step - loss: 3.1015e-04 - acc: 0.9963 - val_loss: 0.0016 - val_acc: 0.9810\n",
            "Epoch 3/10\n",
            "60000/60000 [==============================] - 7s 125us/step - loss: 3.0861e-04 - acc: 0.9962 - val_loss: 0.0016 - val_acc: 0.9816\n",
            "Epoch 4/10\n",
            "60000/60000 [==============================] - 7s 121us/step - loss: 3.2453e-04 - acc: 0.9961 - val_loss: 0.0017 - val_acc: 0.9793\n",
            "Epoch 5/10\n",
            "60000/60000 [==============================] - 8s 125us/step - loss: 3.2157e-04 - acc: 0.9961 - val_loss: 0.0017 - val_acc: 0.9804\n",
            "Epoch 6/10\n",
            "60000/60000 [==============================] - 7s 124us/step - loss: 2.8766e-04 - acc: 0.9966 - val_loss: 0.0015 - val_acc: 0.9816\n",
            "Epoch 7/10\n",
            "60000/60000 [==============================] - 7s 122us/step - loss: 3.0557e-04 - acc: 0.9964 - val_loss: 0.0016 - val_acc: 0.9807\n",
            "Epoch 8/10\n",
            "60000/60000 [==============================] - 7s 121us/step - loss: 3.0590e-04 - acc: 0.9963 - val_loss: 0.0016 - val_acc: 0.9811\n",
            "Epoch 9/10\n",
            "60000/60000 [==============================] - 7s 123us/step - loss: 2.8694e-04 - acc: 0.9966 - val_loss: 0.0016 - val_acc: 0.9809\n",
            "Epoch 10/10\n",
            "60000/60000 [==============================] - 7s 122us/step - loss: 2.9156e-04 - acc: 0.9965 - val_loss: 0.0016 - val_acc: 0.9803\n",
            "Test loss: 0.0016256849359750742\n",
            "Test accuracy: 0.9803\n"
          ],
          "name": "stdout"
        }
      ]
    },
    {
      "cell_type": "markdown",
      "metadata": {
        "id": "AwmNLBnh9bsP",
        "colab_type": "text"
      },
      "source": [
        "## categorical_crossentropy"
      ]
    },
    {
      "cell_type": "code",
      "metadata": {
        "id": "18TKKNas9f6K",
        "colab_type": "code",
        "outputId": "c8ed3373-8130-411d-9885-546459e3ec2c",
        "colab": {
          "base_uri": "https://localhost:8080/",
          "height": 403
        }
      },
      "source": [
        "# Compile model using accuracy\n",
        "model.compile(optimizer='rmsprop',\n",
        "              loss='categorical_crossentropy',\n",
        "              metrics=['accuracy'])\n",
        "\n",
        "# Train model\n",
        "model.fit(X_train, y_train,\n",
        "          batch_size=BATCH_SIZE,\n",
        "          epochs=EPOCHS,\n",
        "          verbose=1,\n",
        "          validation_data=(X_test, y_test))\n",
        "\n",
        "score = model.evaluate(X_test, y_test, verbose=0)\n",
        "print('Test loss:', score[0])\n",
        "print('Test accuracy:', score[1])"
      ],
      "execution_count": 0,
      "outputs": [
        {
          "output_type": "stream",
          "text": [
            "Train on 60000 samples, validate on 10000 samples\n",
            "Epoch 1/10\n",
            "60000/60000 [==============================] - 8s 128us/step - loss: 0.0405 - acc: 0.9969 - val_loss: 0.2120 - val_acc: 0.9825\n",
            "Epoch 2/10\n",
            "60000/60000 [==============================] - 7s 119us/step - loss: 0.0409 - acc: 0.9970 - val_loss: 0.2241 - val_acc: 0.9815\n",
            "Epoch 3/10\n",
            "60000/60000 [==============================] - 7s 120us/step - loss: 0.0401 - acc: 0.9970 - val_loss: 0.2583 - val_acc: 0.9788\n",
            "Epoch 4/10\n",
            "60000/60000 [==============================] - 7s 118us/step - loss: 0.0398 - acc: 0.9971 - val_loss: 0.2289 - val_acc: 0.9810\n",
            "Epoch 5/10\n",
            "60000/60000 [==============================] - 7s 119us/step - loss: 0.0405 - acc: 0.9968 - val_loss: 0.2231 - val_acc: 0.9819\n",
            "Epoch 6/10\n",
            "60000/60000 [==============================] - 7s 120us/step - loss: 0.0377 - acc: 0.9972 - val_loss: 0.2351 - val_acc: 0.9805\n",
            "Epoch 7/10\n",
            "60000/60000 [==============================] - 7s 120us/step - loss: 0.0389 - acc: 0.9971 - val_loss: 0.2249 - val_acc: 0.9818\n",
            "Epoch 8/10\n",
            "60000/60000 [==============================] - 7s 121us/step - loss: 0.0365 - acc: 0.9975 - val_loss: 0.2259 - val_acc: 0.9811\n",
            "Epoch 9/10\n",
            "60000/60000 [==============================] - 7s 122us/step - loss: 0.0409 - acc: 0.9967 - val_loss: 0.2369 - val_acc: 0.9800\n",
            "Epoch 10/10\n",
            "60000/60000 [==============================] - 7s 120us/step - loss: 0.0377 - acc: 0.9971 - val_loss: 0.2314 - val_acc: 0.9804\n",
            "Test loss: 0.2313992938270525\n",
            "Test accuracy: 0.9804\n"
          ],
          "name": "stdout"
        }
      ]
    },
    {
      "cell_type": "markdown",
      "metadata": {
        "id": "h5QQH64O9juA",
        "colab_type": "text"
      },
      "source": [
        "## binary_crossentropy"
      ]
    },
    {
      "cell_type": "code",
      "metadata": {
        "id": "LUTouphq9jLx",
        "colab_type": "code",
        "outputId": "78d6e14d-341d-41ac-9675-789b148f72ef",
        "colab": {
          "base_uri": "https://localhost:8080/",
          "height": 403
        }
      },
      "source": [
        "# Compile model using accuracy\n",
        "model.compile(optimizer='rmsprop',\n",
        "              loss='binary_crossentropy',\n",
        "              metrics=['accuracy'])\n",
        "\n",
        "# Train model\n",
        "model.fit(X_train, y_train,\n",
        "          batch_size=BATCH_SIZE,\n",
        "          epochs=EPOCHS,\n",
        "          verbose=1,\n",
        "          validation_data=(X_test, y_test))\n",
        "\n",
        "score = model.evaluate(X_test, y_test, verbose=0)\n",
        "print('Test loss:', score[0])\n",
        "print('Test accuracy:', score[1])"
      ],
      "execution_count": 0,
      "outputs": [
        {
          "output_type": "stream",
          "text": [
            "Train on 60000 samples, validate on 10000 samples\n",
            "Epoch 1/10\n",
            "60000/60000 [==============================] - 8s 130us/step - loss: 0.0082 - acc: 0.9993 - val_loss: 0.0385 - val_acc: 0.9966\n",
            "Epoch 2/10\n",
            "60000/60000 [==============================] - 7s 118us/step - loss: 0.0074 - acc: 0.9994 - val_loss: 0.0412 - val_acc: 0.9963\n",
            "Epoch 3/10\n",
            "60000/60000 [==============================] - 7s 120us/step - loss: 0.0081 - acc: 0.9993 - val_loss: 0.0416 - val_acc: 0.9965\n",
            "Epoch 4/10\n",
            "60000/60000 [==============================] - 7s 120us/step - loss: 0.0081 - acc: 0.9994 - val_loss: 0.0432 - val_acc: 0.9963\n",
            "Epoch 5/10\n",
            "60000/60000 [==============================] - 7s 121us/step - loss: 0.0074 - acc: 0.9994 - val_loss: 0.0427 - val_acc: 0.9964\n",
            "Epoch 6/10\n",
            "60000/60000 [==============================] - 7s 121us/step - loss: 0.0077 - acc: 0.9994 - val_loss: 0.0422 - val_acc: 0.9962\n",
            "Epoch 7/10\n",
            "60000/60000 [==============================] - 7s 120us/step - loss: 0.0077 - acc: 0.9994 - val_loss: 0.0409 - val_acc: 0.9964\n",
            "Epoch 8/10\n",
            "60000/60000 [==============================] - 7s 119us/step - loss: 0.0074 - acc: 0.9994 - val_loss: 0.0410 - val_acc: 0.9965\n",
            "Epoch 9/10\n",
            "60000/60000 [==============================] - 7s 120us/step - loss: 0.0076 - acc: 0.9994 - val_loss: 0.0405 - val_acc: 0.9964\n",
            "Epoch 10/10\n",
            "60000/60000 [==============================] - 7s 119us/step - loss: 0.0069 - acc: 0.9994 - val_loss: 0.0426 - val_acc: 0.9963\n",
            "Test loss: 0.04259703218070107\n",
            "Test accuracy: 0.9963299951553345\n"
          ],
          "name": "stdout"
        }
      ]
    },
    {
      "cell_type": "markdown",
      "metadata": {
        "id": "9ac7ZCj99p4t",
        "colab_type": "text"
      },
      "source": [
        "## kullback_leibler_divergence"
      ]
    },
    {
      "cell_type": "code",
      "metadata": {
        "id": "x3JNL06u9pUr",
        "colab_type": "code",
        "outputId": "e29da9d6-46a8-4165-e668-ffb96aeb9ec0",
        "colab": {
          "base_uri": "https://localhost:8080/",
          "height": 403
        }
      },
      "source": [
        "# Compile model using accuracy\n",
        "model.compile(optimizer='rmsprop',\n",
        "              loss='kullback_leibler_divergence',\n",
        "              metrics=['accuracy'])\n",
        "\n",
        "# Train model\n",
        "model.fit(X_train, y_train,\n",
        "          batch_size=BATCH_SIZE,\n",
        "          epochs=EPOCHS,\n",
        "          verbose=1,\n",
        "          validation_data=(X_test, y_test))\n",
        "\n",
        "score = model.evaluate(X_test, y_test, verbose=0)\n",
        "print('Test loss:', score[0])\n",
        "print('Test accuracy:', score[1])"
      ],
      "execution_count": 0,
      "outputs": [
        {
          "output_type": "stream",
          "text": [
            "Train on 60000 samples, validate on 10000 samples\n",
            "Epoch 1/10\n",
            "60000/60000 [==============================] - 8s 130us/step - loss: 0.0343 - acc: 0.9975 - val_loss: 0.2192 - val_acc: 0.9821\n",
            "Epoch 2/10\n",
            "60000/60000 [==============================] - 7s 119us/step - loss: 0.0338 - acc: 0.9975 - val_loss: 0.2168 - val_acc: 0.9829\n",
            "Epoch 3/10\n",
            "60000/60000 [==============================] - 7s 121us/step - loss: 0.0357 - acc: 0.9974 - val_loss: 0.2049 - val_acc: 0.9832\n",
            "Epoch 4/10\n",
            "60000/60000 [==============================] - 7s 121us/step - loss: 0.0329 - acc: 0.9977 - val_loss: 0.2402 - val_acc: 0.9807\n",
            "Epoch 5/10\n",
            "60000/60000 [==============================] - 7s 121us/step - loss: 0.0316 - acc: 0.9978 - val_loss: 0.2214 - val_acc: 0.9811\n",
            "Epoch 6/10\n",
            "60000/60000 [==============================] - 7s 120us/step - loss: 0.0327 - acc: 0.9976 - val_loss: 0.2377 - val_acc: 0.9807\n",
            "Epoch 7/10\n",
            "60000/60000 [==============================] - 7s 121us/step - loss: 0.0339 - acc: 0.9976 - val_loss: 0.2102 - val_acc: 0.9830\n",
            "Epoch 8/10\n",
            "60000/60000 [==============================] - 7s 117us/step - loss: 0.0327 - acc: 0.9976 - val_loss: 0.2147 - val_acc: 0.9810\n",
            "Epoch 9/10\n",
            "60000/60000 [==============================] - 7s 119us/step - loss: 0.0324 - acc: 0.9978 - val_loss: 0.2230 - val_acc: 0.9821\n",
            "Epoch 10/10\n",
            "60000/60000 [==============================] - 7s 119us/step - loss: 0.0344 - acc: 0.9974 - val_loss: 0.2508 - val_acc: 0.9805\n",
            "Test loss: 0.2507936635768218\n",
            "Test accuracy: 0.9805\n"
          ],
          "name": "stdout"
        }
      ]
    },
    {
      "cell_type": "markdown",
      "metadata": {
        "id": "TAMQXZYa9u-D",
        "colab_type": "text"
      },
      "source": [
        "## poisson"
      ]
    },
    {
      "cell_type": "code",
      "metadata": {
        "id": "zEGUi9rd9xrj",
        "colab_type": "code",
        "outputId": "db767e76-1144-4438-94b8-9496929427a9",
        "colab": {
          "base_uri": "https://localhost:8080/",
          "height": 403
        }
      },
      "source": [
        "# Compile model using accuracy\n",
        "model.compile(optimizer='rmsprop',\n",
        "              loss='poisson',\n",
        "              metrics=['accuracy'])\n",
        "\n",
        "# Train model\n",
        "model.fit(X_train, y_train,\n",
        "          batch_size=BATCH_SIZE,\n",
        "          epochs=EPOCHS,\n",
        "          verbose=1,\n",
        "          validation_data=(X_test, y_test))\n",
        "\n",
        "score = model.evaluate(X_test, y_test, verbose=0)\n",
        "print('Test loss:', score[0])\n",
        "print('Test accuracy:', score[1])"
      ],
      "execution_count": 0,
      "outputs": [
        {
          "output_type": "stream",
          "text": [
            "Train on 60000 samples, validate on 10000 samples\n",
            "Epoch 1/10\n",
            "60000/60000 [==============================] - 8s 132us/step - loss: 0.1033 - acc: 0.9976 - val_loss: 0.1203 - val_acc: 0.9823\n",
            "Epoch 2/10\n",
            "60000/60000 [==============================] - 7s 120us/step - loss: 0.1033 - acc: 0.9976 - val_loss: 0.1223 - val_acc: 0.9820\n",
            "Epoch 3/10\n",
            "60000/60000 [==============================] - 7s 121us/step - loss: 0.1033 - acc: 0.9976 - val_loss: 0.1240 - val_acc: 0.9806\n",
            "Epoch 4/10\n",
            "60000/60000 [==============================] - 7s 125us/step - loss: 0.1031 - acc: 0.9977 - val_loss: 0.1216 - val_acc: 0.9823\n",
            "Epoch 5/10\n",
            "60000/60000 [==============================] - 7s 122us/step - loss: 0.1031 - acc: 0.9978 - val_loss: 0.1228 - val_acc: 0.9819\n",
            "Epoch 6/10\n",
            "60000/60000 [==============================] - 7s 118us/step - loss: 0.1028 - acc: 0.9980 - val_loss: 0.1207 - val_acc: 0.9826\n",
            "Epoch 7/10\n",
            "60000/60000 [==============================] - 7s 122us/step - loss: 0.1030 - acc: 0.9979 - val_loss: 0.1223 - val_acc: 0.9814\n",
            "Epoch 8/10\n",
            "60000/60000 [==============================] - 7s 124us/step - loss: 0.1031 - acc: 0.9978 - val_loss: 0.1227 - val_acc: 0.9818\n",
            "Epoch 9/10\n",
            "60000/60000 [==============================] - 7s 120us/step - loss: 0.1030 - acc: 0.9979 - val_loss: 0.1230 - val_acc: 0.9811\n",
            "Epoch 10/10\n",
            "60000/60000 [==============================] - 7s 120us/step - loss: 0.1030 - acc: 0.9978 - val_loss: 0.1233 - val_acc: 0.9811\n",
            "Test loss: 0.1232646117568016\n",
            "Test accuracy: 0.9811\n"
          ],
          "name": "stdout"
        }
      ]
    },
    {
      "cell_type": "markdown",
      "metadata": {
        "id": "eUWziNoF90s0",
        "colab_type": "text"
      },
      "source": [
        "## cosine_proximity"
      ]
    },
    {
      "cell_type": "code",
      "metadata": {
        "id": "yLrj6eRO9285",
        "colab_type": "code",
        "outputId": "94921c15-d559-4af9-a529-29094b2f4bff",
        "colab": {
          "base_uri": "https://localhost:8080/",
          "height": 403
        }
      },
      "source": [
        "# Compile model using accuracy\n",
        "model.compile(optimizer='rmsprop',\n",
        "              loss='cosine_proximity',\n",
        "              metrics=['accuracy'])\n",
        "\n",
        "# Train model\n",
        "model.fit(X_train, y_train,\n",
        "          batch_size=BATCH_SIZE,\n",
        "          epochs=EPOCHS,\n",
        "          verbose=1,\n",
        "          validation_data=(X_test, y_test))\n",
        "\n",
        "score = model.evaluate(X_test, y_test, verbose=0)\n",
        "print('Test loss:', score[0])\n",
        "print('Test accuracy:', score[1])"
      ],
      "execution_count": 0,
      "outputs": [
        {
          "output_type": "stream",
          "text": [
            "Train on 60000 samples, validate on 10000 samples\n",
            "Epoch 1/10\n",
            "60000/60000 [==============================] - 8s 134us/step - loss: -0.9980 - acc: 0.9979 - val_loss: -0.9801 - val_acc: 0.9796\n",
            "Epoch 2/10\n",
            "60000/60000 [==============================] - 7s 120us/step - loss: -0.9979 - acc: 0.9978 - val_loss: -0.9807 - val_acc: 0.9803\n",
            "Epoch 3/10\n",
            "60000/60000 [==============================] - 7s 121us/step - loss: -0.9978 - acc: 0.9978 - val_loss: -0.9813 - val_acc: 0.9813\n",
            "Epoch 4/10\n",
            "60000/60000 [==============================] - 7s 120us/step - loss: -0.9981 - acc: 0.9980 - val_loss: -0.9826 - val_acc: 0.9822\n",
            "Epoch 5/10\n",
            "60000/60000 [==============================] - 7s 120us/step - loss: -0.9978 - acc: 0.9977 - val_loss: -0.9815 - val_acc: 0.9811\n",
            "Epoch 6/10\n",
            "60000/60000 [==============================] - 7s 121us/step - loss: -0.9979 - acc: 0.9979 - val_loss: -0.9814 - val_acc: 0.9809\n",
            "Epoch 7/10\n",
            "60000/60000 [==============================] - 7s 121us/step - loss: -0.9979 - acc: 0.9978 - val_loss: -0.9824 - val_acc: 0.9820\n",
            "Epoch 8/10\n",
            "60000/60000 [==============================] - 7s 121us/step - loss: -0.9977 - acc: 0.9977 - val_loss: -0.9832 - val_acc: 0.9829\n",
            "Epoch 9/10\n",
            "60000/60000 [==============================] - 7s 121us/step - loss: -0.9974 - acc: 0.9973 - val_loss: -0.9804 - val_acc: 0.9799\n",
            "Epoch 10/10\n",
            "60000/60000 [==============================] - 7s 122us/step - loss: -0.9975 - acc: 0.9974 - val_loss: -0.9828 - val_acc: 0.9826\n",
            "Test loss: -0.9827569177627563\n",
            "Test accuracy: 0.9826\n"
          ],
          "name": "stdout"
        }
      ]
    }
  ]
}