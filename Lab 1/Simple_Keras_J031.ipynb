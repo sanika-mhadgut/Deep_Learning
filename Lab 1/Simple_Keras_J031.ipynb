{
  "nbformat": 4,
  "nbformat_minor": 0,
  "metadata": {
    "colab": {
      "name": "Simple-Keras_J031.ipynb",
      "provenance": [],
      "collapsed_sections": [],
      "include_colab_link": true
    },
    "kernelspec": {
      "name": "python3",
      "display_name": "Python 3"
    }
  },
  "cells": [
    {
      "cell_type": "markdown",
      "metadata": {
        "id": "view-in-github",
        "colab_type": "text"
      },
      "source": [
        "<a href=\"https://colab.research.google.com/github/sanika-mhadgut/Deep_Learning/blob/master/Simple_Keras_J031.ipynb\" target=\"_parent\"><img src=\"https://colab.research.google.com/assets/colab-badge.svg\" alt=\"Open In Colab\"/></a>"
      ]
    },
    {
      "cell_type": "markdown",
      "metadata": {
        "id": "-LPdeJnLbhP5",
        "colab_type": "text"
      },
      "source": [
        "#Name : Sanika Mhadgut\n",
        "#Branch : Btech Data Science sem 6\n",
        "#Roll No: J031\n",
        "\n",
        " Keras package in Python\n",
        "\n",
        "Keras is a high-level neural networks API, written in Python and capable of running on top of TensorFlow, CNTK, or Theano. It was developed with a focus on enabling fast experimentation. Being able to go from idea to result with the least possible delay is key to doing good research.\n",
        "\n",
        "Use Keras if you need a deep learning library that:\n",
        "\n",
        "Allows for easy and fast prototyping (through user friendliness, modularity, and extensibility).\n",
        "Supports both convolutional networks and recurrent networks, as well as combinations of the two.\n",
        "Runs seamlessly on CPU and GPU.\n",
        "Read the documentation at Keras.io.\n",
        "\n",
        "Keras is compatible with: Python 2.7-3.6."
      ]
    },
    {
      "cell_type": "markdown",
      "metadata": {
        "id": "j5qa9OtRbyqO",
        "colab_type": "text"
      },
      "source": [
        "The core data structure of Keras is a **model**, a way to organize layers. The simplest type of model is the Sequential model, a linear stack of layers. For more complex architectures, you should use the Keras functional API, which allows to build arbitrary graphs of layers."
      ]
    },
    {
      "cell_type": "code",
      "metadata": {
        "id": "F6zlphu1bZIC",
        "colab_type": "code",
        "colab": {}
      },
      "source": [
        "#Here is the Sequential model:\n",
        "\n",
        "from keras.models import Sequential\n",
        "\n",
        "model = Sequential()"
      ],
      "execution_count": 0,
      "outputs": []
    },
    {
      "cell_type": "code",
      "metadata": {
        "id": "PHysZQcdcAza",
        "colab_type": "code",
        "colab": {}
      },
      "source": [
        "#Stacking layers is as easy as .add():\n",
        "\n",
        "from keras.layers import Dense\n",
        "\n",
        "model.add(Dense(units=64, activation='relu', input_dim=100))\n",
        "model.add(Dense(units=1, activation='softmax'))"
      ],
      "execution_count": 0,
      "outputs": []
    },
    {
      "cell_type": "markdown",
      "metadata": {
        "id": "fBcPLRoqd9iH",
        "colab_type": "text"
      },
      "source": [
        "# Compilation\n",
        "\n",
        "Before training a model, you need to configure the learning process, which is done via the compile method. It receives three arguments:\n",
        "\n",
        "An optimizer. This could be the string identifier of an existing optimizer (such as rmsprop or adagrad), or an instance of the Optimizer class. \n",
        "\n",
        "\n",
        "A loss function. This is the objective that the model will try to minimize. It can be the string identifier of an existing loss function (such as categorical_crossentropy or mse), or it can be an objective function. \n",
        "\n",
        "A list of metrics. For any classification problem you will want to set this to metrics=['accuracy']. A metric could be the string identifier of an existing metric or a custom metric function. \n"
      ]
    },
    {
      "cell_type": "code",
      "metadata": {
        "id": "XD6V0BrQcCNh",
        "colab_type": "code",
        "colab": {}
      },
      "source": [
        "#Once your model looks good, configure its learning process with .compile():\n",
        "\n",
        "model.compile(loss='binary_crossentropy', optimizer='sgd', metrics=['accuracy'])"
      ],
      "execution_count": 0,
      "outputs": []
    },
    {
      "cell_type": "markdown",
      "metadata": {
        "id": "XpokwhIudqU7",
        "colab_type": "text"
      },
      "source": [
        "# Specifying the input shape\n",
        "\n",
        "The model needs to know what input shape it should expect. For this reason, the first layer in a Sequential model (and only the first, because following layers can do automatic shape inference) needs to receive information about its input shape. There are several possible ways to do this:\n",
        "\n",
        "Pass an input_shape argument to the first layer. This is a shape tuple (a tuple of integers or None entries, where None indicates that any positive integer may be expected). In input_shape, the batch dimension is not included.\n",
        "\n",
        "Some 2D layers, such as Dense, support the specification of their input shape via the argument input_dim, and some 3D temporal layers support the arguments input_dim and input_length.\n"
      ]
    },
    {
      "cell_type": "code",
      "metadata": {
        "id": "0q7KHVXVd47_",
        "colab_type": "code",
        "colab": {}
      },
      "source": [
        "# Generate dummy data\n",
        "import numpy as np\n",
        "data = np.random.random((1000, 100))\n",
        "labels = np.random.randint(2, size=(1000, 1))"
      ],
      "execution_count": 0,
      "outputs": []
    },
    {
      "cell_type": "code",
      "metadata": {
        "id": "4T2tgwU0e-fX",
        "colab_type": "code",
        "outputId": "fa4adb62-4688-40bf-835c-333682b7ca3d",
        "colab": {
          "base_uri": "https://localhost:8080/",
          "height": 34
        }
      },
      "source": [
        "# Check the shape of inputs\n",
        "data.shape"
      ],
      "execution_count": 0,
      "outputs": [
        {
          "output_type": "execute_result",
          "data": {
            "text/plain": [
              "(1000, 100)"
            ]
          },
          "metadata": {
            "tags": []
          },
          "execution_count": 29
        }
      ]
    },
    {
      "cell_type": "code",
      "metadata": {
        "id": "b7wfi1JJfFtu",
        "colab_type": "code",
        "outputId": "bf96db22-178e-454b-f20a-f9ff2eb936df",
        "colab": {
          "base_uri": "https://localhost:8080/",
          "height": 34
        }
      },
      "source": [
        "# Check the shape of labels\n",
        "labels.shape"
      ],
      "execution_count": 0,
      "outputs": [
        {
          "output_type": "execute_result",
          "data": {
            "text/plain": [
              "(1000, 1)"
            ]
          },
          "metadata": {
            "tags": []
          },
          "execution_count": 30
        }
      ]
    },
    {
      "cell_type": "markdown",
      "metadata": {
        "id": "yqYljCVFeLBj",
        "colab_type": "text"
      },
      "source": [
        "# Training\n",
        "\n",
        "Keras models are trained on Numpy arrays of input data and labels. For training a model, you will typically use the fit function. "
      ]
    },
    {
      "cell_type": "code",
      "metadata": {
        "id": "ZG96MZWdeP5F",
        "colab_type": "code",
        "outputId": "38cb6434-af25-41e5-cb77-f17352b2313d",
        "colab": {
          "base_uri": "https://localhost:8080/",
          "height": 374
        }
      },
      "source": [
        "# Train the model, iterating on the data in batches of 32 samples\n",
        "model.fit(data, labels, epochs=10, batch_size=32)"
      ],
      "execution_count": 0,
      "outputs": [
        {
          "output_type": "stream",
          "text": [
            "Epoch 1/10\n",
            "1000/1000 [==============================] - 1s 543us/step - loss: 8.1944 - acc: 0.4860\n",
            "Epoch 2/10\n",
            "1000/1000 [==============================] - 0s 45us/step - loss: 8.1944 - acc: 0.4860\n",
            "Epoch 3/10\n",
            "1000/1000 [==============================] - 0s 43us/step - loss: 8.1944 - acc: 0.4860\n",
            "Epoch 4/10\n",
            "1000/1000 [==============================] - 0s 50us/step - loss: 8.1944 - acc: 0.4860\n",
            "Epoch 5/10\n",
            "1000/1000 [==============================] - 0s 45us/step - loss: 8.1944 - acc: 0.4860\n",
            "Epoch 6/10\n",
            "1000/1000 [==============================] - 0s 41us/step - loss: 8.1944 - acc: 0.4860\n",
            "Epoch 7/10\n",
            "1000/1000 [==============================] - 0s 41us/step - loss: 8.1944 - acc: 0.4860\n",
            "Epoch 8/10\n",
            "1000/1000 [==============================] - 0s 44us/step - loss: 8.1944 - acc: 0.4860\n",
            "Epoch 9/10\n",
            "1000/1000 [==============================] - 0s 45us/step - loss: 8.1944 - acc: 0.4860\n",
            "Epoch 10/10\n",
            "1000/1000 [==============================] - 0s 44us/step - loss: 8.1944 - acc: 0.4860\n"
          ],
          "name": "stdout"
        },
        {
          "output_type": "execute_result",
          "data": {
            "text/plain": [
              "<keras.callbacks.History at 0x7f767e7e20b8>"
            ]
          },
          "metadata": {
            "tags": []
          },
          "execution_count": 31
        }
      ]
    },
    {
      "cell_type": "markdown",
      "metadata": {
        "id": "xUSaXF22foxp",
        "colab_type": "text"
      },
      "source": [
        "# Exercise 1: Build a Sequential model with two layers. \n",
        "\n",
        "Layer 1 is dense with 32 nodes and 'relu' activation function. Input dimension is 100.\n",
        "\n",
        "Layer 2 is dense with 10 nodes and 'softmax' activation function.\n",
        "\n",
        "Compile the model with optimizer 'rmsprop',             loss='categorical_crossentropy' and metrics=['accuracy']\n",
        "\n",
        "\n",
        "Generate dummy data using np.random.random 1000, 100 and dummy labels of 10 categories with size 1000,1\n",
        "\n",
        "\n",
        "## Convert labels to categorical one-hot encoding using below statement\n",
        "from keras.utils import to_categorical\n",
        "one_hot_labels = to_categorical(labels, num_classes=10)\n",
        "\n",
        "Finally, Train the model, iterating on the data in batches of 32 samples\n",
        "\n",
        "\n",
        "\n",
        "\n"
      ]
    },
    {
      "cell_type": "code",
      "metadata": {
        "id": "Ufzot11ZLff3",
        "colab_type": "code",
        "outputId": "df0c14e9-f91d-49cc-db21-c2f01f3b062b",
        "colab": {
          "base_uri": "https://localhost:8080/",
          "height": 374
        }
      },
      "source": [
        "from keras.utils import to_categorical\n",
        "model = Sequential()\n",
        "model.add(Dense(32, activation='relu', input_dim=100))\n",
        "model.add(Dense(10, activation='softmax'))\n",
        "model.compile(optimizer='rmsprop',\n",
        "              loss='categorical_crossentropy',\n",
        "              metrics=['accuracy'])\n",
        "\n",
        "# Generate dummy data\n",
        "import numpy as np\n",
        "data = np.random.random((1000, 100))\n",
        "labels = np.random.randint(10, size=(1000, 1))\n",
        "\n",
        "# Convert labels to categorical one-hot encoding\n",
        "one_hot_labels = to_categorical(labels, num_classes=10)\n",
        "\n",
        "# Train the model, iterating on the data in batches of 32 samples\n",
        "model.fit(data, one_hot_labels, epochs=10, batch_size=32)"
      ],
      "execution_count": 0,
      "outputs": [
        {
          "output_type": "stream",
          "text": [
            "Epoch 1/10\n",
            "1000/1000 [==============================] - 1s 531us/step - loss: 2.3817 - acc: 0.0960\n",
            "Epoch 2/10\n",
            "1000/1000 [==============================] - 0s 48us/step - loss: 2.3072 - acc: 0.1100\n",
            "Epoch 3/10\n",
            "1000/1000 [==============================] - 0s 43us/step - loss: 2.2940 - acc: 0.1330\n",
            "Epoch 4/10\n",
            "1000/1000 [==============================] - 0s 48us/step - loss: 2.2847 - acc: 0.1390\n",
            "Epoch 5/10\n",
            "1000/1000 [==============================] - 0s 46us/step - loss: 2.2731 - acc: 0.1410\n",
            "Epoch 6/10\n",
            "1000/1000 [==============================] - 0s 47us/step - loss: 2.2648 - acc: 0.1570\n",
            "Epoch 7/10\n",
            "1000/1000 [==============================] - 0s 40us/step - loss: 2.2604 - acc: 0.1610\n",
            "Epoch 8/10\n",
            "1000/1000 [==============================] - 0s 43us/step - loss: 2.2514 - acc: 0.1550\n",
            "Epoch 9/10\n",
            "1000/1000 [==============================] - 0s 42us/step - loss: 2.2427 - acc: 0.1620\n",
            "Epoch 10/10\n",
            "1000/1000 [==============================] - 0s 48us/step - loss: 2.2339 - acc: 0.1720\n"
          ],
          "name": "stdout"
        },
        {
          "output_type": "execute_result",
          "data": {
            "text/plain": [
              "<keras.callbacks.History at 0x7f767e70c898>"
            ]
          },
          "metadata": {
            "tags": []
          },
          "execution_count": 32
        }
      ]
    },
    {
      "cell_type": "markdown",
      "metadata": {
        "id": "sJrdnfAMfWbc",
        "colab_type": "text"
      },
      "source": [
        "Double-click <b>here</b> for the solution.\n",
        "\n",
        "<!-- The answer is below:\n",
        "from keras.utils import to_categorical\n",
        "model = Sequential()\n",
        "model.add(Dense(32, activation='relu', input_dim=100))\n",
        "model.add(Dense(10, activation='softmax'))\n",
        "model.compile(optimizer='rmsprop',\n",
        "              loss='categorical_crossentropy',\n",
        "              metrics=['accuracy'])\n",
        "\n",
        "# Generate dummy data\n",
        "import numpy as np\n",
        "data = np.random.random((1000, 100))\n",
        "labels = np.random.randint(10, size=(1000, 1))\n",
        "\n",
        "# Convert labels to categorical one-hot encoding\n",
        "one_hot_labels = to_categorical(labels, num_classes=10)\n",
        "\n",
        "# Train the model, iterating on the data in batches of 32 samples\n",
        "model.fit(data, one_hot_labels, epochs=10, batch_size=32)\n",
        "\n",
        "-->"
      ]
    },
    {
      "cell_type": "markdown",
      "metadata": {
        "id": "kVpe2f24jTIW",
        "colab_type": "text"
      },
      "source": [
        "# Exercise 2: Building a Basic Keras Neural Network Sequential Model to classify MNIST dataset\n",
        "\n",
        "First we import package and a set hyperparameter and identify dataset variables.\n",
        "\n"
      ]
    },
    {
      "cell_type": "code",
      "metadata": {
        "id": "gl3kYpMSjqUO",
        "colab_type": "code",
        "colab": {}
      },
      "source": [
        "from keras import models\n",
        "from keras.layers import Dense, Dropout\n",
        "from keras.utils import to_categorical\n",
        "from keras.datasets import mnist\n",
        "from keras.utils.vis_utils import model_to_dot\n",
        "from IPython.display import SVG\n",
        "\n",
        "NUM_ROWS = 28\n",
        "NUM_COLS = 28\n",
        "NUM_CLASSES = 10\n",
        "BATCH_SIZE = 128\n",
        "EPOCHS = 10"
      ],
      "execution_count": 0,
      "outputs": []
    },
    {
      "cell_type": "markdown",
      "metadata": {
        "id": "Qr-2yrEUjt5Q",
        "colab_type": "text"
      },
      "source": [
        "## Next is a function for outputting some simple (but useful) metadata of our dataset."
      ]
    },
    {
      "cell_type": "code",
      "metadata": {
        "id": "koiwyv_Jj0Yf",
        "colab_type": "code",
        "colab": {}
      },
      "source": [
        "def data_summary(X_train, y_train, X_test, y_test):\n",
        "    \"\"\"Summarize current state of dataset\"\"\"\n",
        "    print('Train images shape:', X_train.shape)\n",
        "    print('Train labels shape:', y_train.shape)\n",
        "    print('Test images shape:', X_test.shape)\n",
        "    print('Test labels shape:', y_test.shape)\n",
        "    print('Train labels:', y_train)\n",
        "    print('Test labels:', y_test)"
      ],
      "execution_count": 0,
      "outputs": []
    },
    {
      "cell_type": "markdown",
      "metadata": {
        "id": "DcHaDkegj-LU",
        "colab_type": "text"
      },
      "source": [
        "## Next we load our dataset (MNIST, using Keras' dataset utilities), and then use the function above to get some dataset metadata."
      ]
    },
    {
      "cell_type": "code",
      "metadata": {
        "id": "BeMLUCHHkBJy",
        "colab_type": "code",
        "outputId": "63118f56-78f4-4f01-eb0c-9af9d99c74b2",
        "colab": {
          "base_uri": "https://localhost:8080/",
          "height": 119
        }
      },
      "source": [
        "# Load data\n",
        "(X_train, y_train), (X_test, y_test) = mnist.load_data()\n",
        "\n",
        "# Check state of dataset\n",
        "data_summary(X_train, y_train, X_test, y_test)"
      ],
      "execution_count": 0,
      "outputs": [
        {
          "output_type": "stream",
          "text": [
            "Train images shape: (60000, 28, 28)\n",
            "Train labels shape: (60000,)\n",
            "Test images shape: (10000, 28, 28)\n",
            "Test labels shape: (10000,)\n",
            "Train labels: [5 0 4 ... 5 6 8]\n",
            "Test labels: [7 2 1 ... 4 5 6]\n"
          ],
          "name": "stdout"
        }
      ]
    },
    {
      "cell_type": "markdown",
      "metadata": {
        "id": "CQBMRuA5kKTQ",
        "colab_type": "text"
      },
      "source": [
        "To feed MNIST instances into a neural network, they need to be reshaped, from a 2 dimensional image representation to a single dimension sequence. We also convert our class vector to a binary matrix (using to_categorical). This is accomplished below, after which the same function defined above is called again in order to show the effects of our data reshaping."
      ]
    },
    {
      "cell_type": "code",
      "metadata": {
        "id": "fRwDGnB8kLpm",
        "colab_type": "code",
        "outputId": "58d5dd64-7a53-45fb-a4a6-324a82771494",
        "colab": {
          "base_uri": "https://localhost:8080/",
          "height": 323
        }
      },
      "source": [
        "# Reshape data\n",
        "X_train = X_train.reshape((X_train.shape[0], NUM_ROWS * NUM_COLS))\n",
        "X_train = X_train.astype('float32') / 255\n",
        "X_test = X_test.reshape((X_test.shape[0], NUM_ROWS * NUM_COLS))\n",
        "X_test = X_test.astype('float32') / 255\n",
        "\n",
        "# Categorically encode labels\n",
        "y_train = to_categorical(y_train, NUM_CLASSES)\n",
        "y_test = to_categorical(y_test, NUM_CLASSES)\n",
        "\n",
        "# Check state of dataset\n",
        "data_summary(X_train, y_train, X_test, y_test)"
      ],
      "execution_count": 0,
      "outputs": [
        {
          "output_type": "stream",
          "text": [
            "Train images shape: (60000, 784)\n",
            "Train labels shape: (60000, 10)\n",
            "Test images shape: (10000, 784)\n",
            "Test labels shape: (10000, 10)\n",
            "Train labels: [[0. 0. 0. ... 0. 0. 0.]\n",
            " [1. 0. 0. ... 0. 0. 0.]\n",
            " [0. 0. 0. ... 0. 0. 0.]\n",
            " ...\n",
            " [0. 0. 0. ... 0. 0. 0.]\n",
            " [0. 0. 0. ... 0. 0. 0.]\n",
            " [0. 0. 0. ... 0. 1. 0.]]\n",
            "Test labels: [[0. 0. 0. ... 1. 0. 0.]\n",
            " [0. 0. 1. ... 0. 0. 0.]\n",
            " [0. 1. 0. ... 0. 0. 0.]\n",
            " ...\n",
            " [0. 0. 0. ... 0. 0. 0.]\n",
            " [0. 0. 0. ... 0. 0. 0.]\n",
            " [0. 0. 0. ... 0. 0. 0.]]\n"
          ],
          "name": "stdout"
        }
      ]
    },
    {
      "cell_type": "markdown",
      "metadata": {
        "colab_type": "text",
        "id": "ho-Gqe4elgoK"
      },
      "source": [
        "#Build a Sequential model of Neural Network with three dense layers.\n",
        "\n",
        "\n",
        "\n",
        "1.   Layer 1, 2 and 3 have 512, 256 and 10 nodes respectively. Activation function of first two layers is relu and final layer is softmax.\n",
        "2.   Compile model with optimizer='rmsprop',               loss='categorical_crossentropy' and metrics=['accuracy']\n",
        "3. Train the model with two additional parameters verbose=1 and validation_data=(X_test, y_test)\n",
        "\n",
        "\n",
        "\n",
        "\n",
        "\n"
      ]
    },
    {
      "cell_type": "code",
      "metadata": {
        "id": "Lkm4jvMtL80x",
        "colab_type": "code",
        "outputId": "cd9099d9-f366-40da-d0c1-d9fe41a0c70d",
        "colab": {
          "base_uri": "https://localhost:8080/",
          "height": 408
        }
      },
      "source": [
        "# Build neural network\n",
        "model = models.Sequential()\n",
        "model.add(Dense(512, activation='relu', input_shape=(NUM_ROWS * NUM_COLS,)))\n",
        "model.add(Dense(256, activation='relu'))\n",
        "model.add(Dense(10, activation='softmax'))\n",
        "\n",
        "# Compile model\n",
        "model.compile(optimizer='rmsprop',\n",
        "              loss='categorical_crossentropy',\n",
        "              metrics=['accuracy'])\n",
        "\n",
        "# Train model\n",
        "model.fit(X_train, y_train,\n",
        "          batch_size=BATCH_SIZE,\n",
        "          epochs=EPOCHS,\n",
        "          verbose=1,\n",
        "          validation_data=(X_test, y_test))\n",
        "\n",
        "score = model.evaluate(X_test, y_test, verbose=0)\n",
        "print('Test loss:', score[0])\n",
        "print('Test accuracy:', score[1])"
      ],
      "execution_count": 0,
      "outputs": [
        {
          "output_type": "stream",
          "text": [
            "Train on 60000 samples, validate on 10000 samples\n",
            "Epoch 1/10\n",
            "60000/60000 [==============================] - 8s 130us/step - loss: 0.2307 - acc: 0.9292 - val_loss: 0.1037 - val_acc: 0.9690\n",
            "Epoch 2/10\n",
            "60000/60000 [==============================] - 7s 122us/step - loss: 0.0854 - acc: 0.9730 - val_loss: 0.0925 - val_acc: 0.9730\n",
            "Epoch 3/10\n",
            "60000/60000 [==============================] - 7s 119us/step - loss: 0.0574 - acc: 0.9823 - val_loss: 0.0828 - val_acc: 0.9754\n",
            "Epoch 4/10\n",
            "60000/60000 [==============================] - 7s 119us/step - loss: 0.0401 - acc: 0.9875 - val_loss: 0.0812 - val_acc: 0.9779\n",
            "Epoch 5/10\n",
            "60000/60000 [==============================] - 7s 115us/step - loss: 0.0289 - acc: 0.9910 - val_loss: 0.1080 - val_acc: 0.9765\n",
            "Epoch 6/10\n",
            "60000/60000 [==============================] - 7s 116us/step - loss: 0.0234 - acc: 0.9926 - val_loss: 0.0945 - val_acc: 0.9783\n",
            "Epoch 7/10\n",
            "60000/60000 [==============================] - 7s 117us/step - loss: 0.0195 - acc: 0.9938 - val_loss: 0.0930 - val_acc: 0.9805\n",
            "Epoch 8/10\n",
            "60000/60000 [==============================] - 7s 116us/step - loss: 0.0155 - acc: 0.9953 - val_loss: 0.0925 - val_acc: 0.9809\n",
            "Epoch 9/10\n",
            "60000/60000 [==============================] - 7s 117us/step - loss: 0.0134 - acc: 0.9957 - val_loss: 0.0928 - val_acc: 0.9820\n",
            "Epoch 10/10\n",
            "60000/60000 [==============================] - 7s 116us/step - loss: 0.0108 - acc: 0.9966 - val_loss: 0.1038 - val_acc: 0.9801\n",
            "Test loss: 0.10384377534471396\n",
            "Test accuracy: 0.9801\n"
          ],
          "name": "stdout"
        }
      ]
    },
    {
      "cell_type": "markdown",
      "metadata": {
        "id": "_R1P-fE9mlkV",
        "colab_type": "text"
      },
      "source": [
        "#Output a summary of the neural network we built."
      ]
    },
    {
      "cell_type": "code",
      "metadata": {
        "id": "XF62Moggmnye",
        "colab_type": "code",
        "outputId": "d9f22aca-f4de-4dc9-cdf1-53807c766466",
        "colab": {
          "base_uri": "https://localhost:8080/",
          "height": 255
        }
      },
      "source": [
        "# Summary of neural network\n",
        "model.summary()"
      ],
      "execution_count": 0,
      "outputs": [
        {
          "output_type": "stream",
          "text": [
            "Model: \"sequential_9\"\n",
            "_________________________________________________________________\n",
            "Layer (type)                 Output Shape              Param #   \n",
            "=================================================================\n",
            "dense_22 (Dense)             (None, 512)               401920    \n",
            "_________________________________________________________________\n",
            "dense_23 (Dense)             (None, 256)               131328    \n",
            "_________________________________________________________________\n",
            "dense_24 (Dense)             (None, 10)                2570      \n",
            "=================================================================\n",
            "Total params: 535,818\n",
            "Trainable params: 535,818\n",
            "Non-trainable params: 0\n",
            "_________________________________________________________________\n"
          ],
          "name": "stdout"
        }
      ]
    },
    {
      "cell_type": "markdown",
      "metadata": {
        "id": "B3r9ODkFmqwX",
        "colab_type": "text"
      },
      "source": [
        "# Visualize the model:\n"
      ]
    },
    {
      "cell_type": "code",
      "metadata": {
        "id": "pF5PEZWPmtvf",
        "colab_type": "code",
        "outputId": "443bc8df-edd2-40e1-c65a-43ae679a192e",
        "colab": {
          "base_uri": "https://localhost:8080/",
          "height": 490
        }
      },
      "source": [
        "# Output network visualization\n",
        "SVG(model_to_dot(model).create(prog='dot', format='svg'))"
      ],
      "execution_count": 0,
      "outputs": [
        {
          "output_type": "execute_result",
          "data": {
            "text/plain": [
              "<IPython.core.display.SVG object>"
            ],
            "image/svg+xml": "<svg height=\"352pt\" viewBox=\"0.00 0.00 188.00 264.00\" width=\"251pt\" xmlns=\"http://www.w3.org/2000/svg\" xmlns:xlink=\"http://www.w3.org/1999/xlink\">\n<g class=\"graph\" id=\"graph0\" transform=\"scale(1.3333 1.3333) rotate(0) translate(4 260)\">\n<title>G</title>\n<polygon fill=\"#ffffff\" points=\"-4,4 -4,-260 184,-260 184,4 -4,4\" stroke=\"transparent\"/>\n<!-- 140147057019760 -->\n<g class=\"node\" id=\"node1\">\n<title>140147057019760</title>\n<polygon fill=\"none\" points=\"0,-219.5 0,-255.5 180,-255.5 180,-219.5 0,-219.5\" stroke=\"#000000\"/>\n<text fill=\"#000000\" font-family=\"Times,serif\" font-size=\"14.00\" text-anchor=\"middle\" x=\"90\" y=\"-233.8\">dense_22_input: InputLayer</text>\n</g>\n<!-- 140147057018920 -->\n<g class=\"node\" id=\"node2\">\n<title>140147057018920</title>\n<polygon fill=\"none\" points=\"33,-146.5 33,-182.5 147,-182.5 147,-146.5 33,-146.5\" stroke=\"#000000\"/>\n<text fill=\"#000000\" font-family=\"Times,serif\" font-size=\"14.00\" text-anchor=\"middle\" x=\"90\" y=\"-160.8\">dense_22: Dense</text>\n</g>\n<!-- 140147057019760&#45;&gt;140147057018920 -->\n<g class=\"edge\" id=\"edge1\">\n<title>140147057019760-&gt;140147057018920</title>\n<path d=\"M90,-219.4551C90,-211.3828 90,-201.6764 90,-192.6817\" fill=\"none\" stroke=\"#000000\"/>\n<polygon fill=\"#000000\" points=\"93.5001,-192.5903 90,-182.5904 86.5001,-192.5904 93.5001,-192.5903\" stroke=\"#000000\"/>\n</g>\n<!-- 140147057018808 -->\n<g class=\"node\" id=\"node3\">\n<title>140147057018808</title>\n<polygon fill=\"none\" points=\"33,-73.5 33,-109.5 147,-109.5 147,-73.5 33,-73.5\" stroke=\"#000000\"/>\n<text fill=\"#000000\" font-family=\"Times,serif\" font-size=\"14.00\" text-anchor=\"middle\" x=\"90\" y=\"-87.8\">dense_23: Dense</text>\n</g>\n<!-- 140147057018920&#45;&gt;140147057018808 -->\n<g class=\"edge\" id=\"edge2\">\n<title>140147057018920-&gt;140147057018808</title>\n<path d=\"M90,-146.4551C90,-138.3828 90,-128.6764 90,-119.6817\" fill=\"none\" stroke=\"#000000\"/>\n<polygon fill=\"#000000\" points=\"93.5001,-119.5903 90,-109.5904 86.5001,-119.5904 93.5001,-119.5903\" stroke=\"#000000\"/>\n</g>\n<!-- 140146906400472 -->\n<g class=\"node\" id=\"node4\">\n<title>140146906400472</title>\n<polygon fill=\"none\" points=\"33,-.5 33,-36.5 147,-36.5 147,-.5 33,-.5\" stroke=\"#000000\"/>\n<text fill=\"#000000\" font-family=\"Times,serif\" font-size=\"14.00\" text-anchor=\"middle\" x=\"90\" y=\"-14.8\">dense_24: Dense</text>\n</g>\n<!-- 140147057018808&#45;&gt;140146906400472 -->\n<g class=\"edge\" id=\"edge3\">\n<title>140147057018808-&gt;140146906400472</title>\n<path d=\"M90,-73.4551C90,-65.3828 90,-55.6764 90,-46.6817\" fill=\"none\" stroke=\"#000000\"/>\n<polygon fill=\"#000000\" points=\"93.5001,-46.5903 90,-36.5904 86.5001,-46.5904 93.5001,-46.5903\" stroke=\"#000000\"/>\n</g>\n</g>\n</svg>"
          },
          "metadata": {
            "tags": []
          },
          "execution_count": 39
        }
      ]
    },
    {
      "cell_type": "markdown",
      "metadata": {
        "id": "-XeWXc0ft6fO",
        "colab_type": "text"
      },
      "source": [
        "#Exercise: Train a Sequential Neural network on CIFAR10 dataset"
      ]
    },
    {
      "cell_type": "code",
      "metadata": {
        "id": "tPWjNVe9uCnw",
        "colab_type": "code",
        "colab": {}
      },
      "source": [
        "#import packages\n",
        "from keras.datasets import cifar10\n",
        "from keras.models import Sequential\n",
        "from keras.layers import Dense, Dropout, Activation, Flatten\n",
        "from keras.utils import to_categorical\n"
      ],
      "execution_count": 0,
      "outputs": []
    },
    {
      "cell_type": "code",
      "metadata": {
        "id": "pjXMCDsxuHAc",
        "colab_type": "code",
        "colab": {}
      },
      "source": [
        "#import dataset\n",
        "(X_train, y_train), (X_test, y_test) = cifar10.load_data()\n",
        "\n",
        "#change shape from image to vector\n",
        "X_train = X_train.reshape(50000, 32 * 32 * 3)\n",
        "X_test = X_test.reshape(10000, 32 * 32 * 3)\n",
        "\n",
        "#preprocess\n",
        "X_train = X_train.astype('float32')\n",
        "X_test = X_test.astype('float32')\n",
        "X_train /= 255.0\n",
        "X_test /= 255.0\n",
        "\n",
        "#change labels from numeric to one hot encoded\n",
        "Y_train = to_categorical(y_train, 10)\n",
        "Y_test =  to_categorical(y_test, 10)"
      ],
      "execution_count": 0,
      "outputs": []
    },
    {
      "cell_type": "markdown",
      "metadata": {
        "id": "0SV6PPCHu6iy",
        "colab_type": "text"
      },
      "source": [
        "# Build sequential model \n",
        "\n",
        "\n",
        "\n",
        "1.   Sequential model with four layers having 1024,512,512,10 nodes respectively\n",
        "2.   Input shape = 3072\n",
        "3.   Activation of first three layers is relu and final is softmax\n",
        "4.   Compile model using loss='categorical_crossentropy', optimizer='adam' and metrics=['accuracy']\n",
        "5. Train model\n",
        "\n"
      ]
    },
    {
      "cell_type": "markdown",
      "metadata": {
        "id": "t51-PrDOvK0R",
        "colab_type": "text"
      },
      "source": [
        "Double-click <b>here</b> for the solution.\n",
        "\n",
        "<!--\n",
        "model = Sequential()\n",
        "model.add(Dense(1024, input_shape=(3072, )))\n",
        "model.add(Activation('relu'))\n",
        "model.add(Dense(512))\n",
        "model.add(Activation('relu'))\n",
        "model.add(Dense(512))\n",
        "model.add(Activation('relu'))\n",
        "model.add(Dense(10))\n",
        "model.add(Activation('softmax'))\n",
        "\n",
        "model.compile(loss='categorical_crossentropy',\n",
        "                  optimizer='adam',\n",
        "                  metrics=['accuracy'])\n",
        "    \n",
        " \n",
        "\n",
        "# training\n",
        "history = model.fit(X_train, Y_train,\n",
        "                        batch_size=128,\n",
        "                        nb_epoch=10,\n",
        "                        verbose=1,\n",
        "                        validation_data=(X_test, Y_test))\n",
        "-->"
      ]
    },
    {
      "cell_type": "code",
      "metadata": {
        "id": "gxAE5ryN6cAz",
        "colab_type": "code",
        "outputId": "d161e835-4be2-4853-d693-4bd398e7ebe4",
        "colab": {
          "base_uri": "https://localhost:8080/",
          "height": 391
        }
      },
      "source": [
        "model = Sequential()\n",
        "model.add(Dense(1024, input_shape=(3072, )))\n",
        "model.add(Activation('relu'))\n",
        "model.add(Dense(512))\n",
        "model.add(Activation('relu'))\n",
        "model.add(Dense(512))\n",
        "model.add(Activation('relu'))\n",
        "model.add(Dense(10))\n",
        "model.add(Activation('softmax'))\n",
        "\n",
        "model.compile(loss='categorical_crossentropy',\n",
        "                  optimizer='adam',\n",
        "                  metrics=['accuracy'])\n",
        "    \n",
        " \n",
        "\n",
        "# training\n",
        "history = model.fit(X_train, Y_train,\n",
        "                        batch_size=128,\n",
        "                        nb_epoch=10,\n",
        "                        verbose=1,\n",
        "                        validation_data=(X_test, Y_test))"
      ],
      "execution_count": 0,
      "outputs": [
        {
          "output_type": "stream",
          "text": [
            "/usr/local/lib/python3.6/dist-packages/ipykernel_launcher.py:22: UserWarning: The `nb_epoch` argument in `fit` has been renamed `epochs`.\n"
          ],
          "name": "stderr"
        },
        {
          "output_type": "stream",
          "text": [
            "Train on 50000 samples, validate on 10000 samples\n",
            "Epoch 1/10\n",
            "50000/50000 [==============================] - 39s 785us/step - loss: 1.8845 - acc: 0.3180 - val_loss: 1.7117 - val_acc: 0.3794\n",
            "Epoch 2/10\n",
            "50000/50000 [==============================] - 38s 762us/step - loss: 1.6693 - acc: 0.3990 - val_loss: 1.6197 - val_acc: 0.4167\n",
            "Epoch 3/10\n",
            "50000/50000 [==============================] - 38s 761us/step - loss: 1.5802 - acc: 0.4306 - val_loss: 1.5636 - val_acc: 0.4418\n",
            "Epoch 4/10\n",
            "50000/50000 [==============================] - 38s 756us/step - loss: 1.5089 - acc: 0.4584 - val_loss: 1.5195 - val_acc: 0.4571\n",
            "Epoch 5/10\n",
            "50000/50000 [==============================] - 38s 760us/step - loss: 1.4661 - acc: 0.4741 - val_loss: 1.4486 - val_acc: 0.4905\n",
            "Epoch 6/10\n",
            "50000/50000 [==============================] - 38s 759us/step - loss: 1.4315 - acc: 0.4896 - val_loss: 1.4597 - val_acc: 0.4746\n",
            "Epoch 7/10\n",
            "50000/50000 [==============================] - 38s 763us/step - loss: 1.3874 - acc: 0.5051 - val_loss: 1.4721 - val_acc: 0.4748\n",
            "Epoch 8/10\n",
            "50000/50000 [==============================] - 38s 760us/step - loss: 1.3541 - acc: 0.5160 - val_loss: 1.4403 - val_acc: 0.4912\n",
            "Epoch 9/10\n",
            "50000/50000 [==============================] - 38s 763us/step - loss: 1.3189 - acc: 0.5276 - val_loss: 1.3951 - val_acc: 0.5100\n",
            "Epoch 10/10\n",
            "50000/50000 [==============================] - 38s 765us/step - loss: 1.2817 - acc: 0.5413 - val_loss: 1.4167 - val_acc: 0.4996\n"
          ],
          "name": "stdout"
        }
      ]
    },
    {
      "cell_type": "markdown",
      "metadata": {
        "id": "c81PL1bVxZRZ",
        "colab_type": "text"
      },
      "source": [
        "# Plot accuracy and loss after model is trained. \n",
        "\n",
        "(Caution: Will not work unless previous step is performed)"
      ]
    },
    {
      "cell_type": "code",
      "metadata": {
        "id": "ptYUQKCWwTUf",
        "colab_type": "code",
        "outputId": "cc673705-be7e-4c3f-d595-6c3135442f7c",
        "colab": {
          "base_uri": "https://localhost:8080/",
          "height": 573
        }
      },
      "source": [
        "import matplotlib.pyplot as plt\n",
        "# Plot training & validation accuracy values\n",
        "plt.plot(history.history['acc'])\n",
        "plt.plot(history.history['val_acc'])\n",
        "plt.title('Model accuracy')\n",
        "plt.ylabel('Accuracy')\n",
        "plt.xlabel('Epoch')\n",
        "plt.legend(['Train', 'Test'], loc='upper left')\n",
        "plt.show()\n",
        "\n",
        "# Plot training & validation loss values\n",
        "plt.plot(history.history['loss'])\n",
        "plt.plot(history.history['val_loss'])\n",
        "plt.title('Model loss')\n",
        "plt.ylabel('Loss')\n",
        "plt.xlabel('Epoch')\n",
        "plt.legend(['Train', 'Test'], loc='upper left')\n",
        "plt.show()"
      ],
      "execution_count": 0,
      "outputs": [
        {
          "output_type": "display_data",
          "data": {
            "image/png": "[encoded data removed]",
            "text/plain": [
              "<Figure size 432x288 with 1 Axes>"
            ]
          },
          "metadata": {
            "tags": []
          }
        },
        {
          "output_type": "display_data",
          "data": {
            "image/png": "[encoded data removed]",
            "text/plain": [
              "<Figure size 432x288 with 1 Axes>"
            ]
          },
          "metadata": {
            "tags": []
          }
        }
      ]
    },
    {
      "cell_type": "markdown",
      "metadata": {
        "id": "U1JOX52A01Dc",
        "colab_type": "text"
      },
      "source": [
        "# Improving accuracy on Iris dataset\n",
        "\n",
        "\n",
        "\n",
        "1.   Find the accuracy of the below model\n",
        "2.   Improve accuracy by increasing layers, epochs, optimizer or loss metrics\n",
        "\n"
      ]
    },
    {
      "cell_type": "code",
      "metadata": {
        "id": "PN6DlpbYytgU",
        "colab_type": "code",
        "outputId": "ff834e39-c4f3-44b9-8c46-bc200f09f29c",
        "colab": {
          "base_uri": "https://localhost:8080/",
          "height": 1000
        }
      },
      "source": [
        "import pandas\n",
        "from keras.models import Sequential\n",
        "from keras.layers import Dense\n",
        "from keras.wrappers.scikit_learn import KerasClassifier\n",
        "from keras.utils import np_utils\n",
        "from sklearn.model_selection import cross_val_score\n",
        "from sklearn.model_selection import KFold\n",
        "from sklearn.preprocessing import LabelEncoder\n",
        "from sklearn.pipeline import Pipeline\n",
        "from sklearn.datasets import load_iris\n",
        "from sklearn.model_selection import train_test_split\n",
        "from sklearn.preprocessing import OneHotEncoder\n",
        "from keras.optimizers import Adam\n",
        "\n",
        "iris_data = load_iris()\n",
        "\t\n",
        "x = iris_data.data\n",
        "y_ = iris_data.target.reshape(-1, 1) # Convert data to a single column\n",
        "\n",
        "# One Hot encode the class labels\n",
        "encoder = OneHotEncoder(sparse=False)\n",
        "y = encoder.fit_transform(y_)\n",
        "\n",
        "\n",
        "# Split the data for training and testing\n",
        "train_x, test_x, train_y, test_y = train_test_split(x, y, test_size=0.01)\n",
        "\n",
        "\n",
        "model = Sequential()\n",
        "\n",
        "model.add(Dense(10, input_shape=(4,), activation='relu'))\n",
        "model.add(Dense(10, activation='relu'))\n",
        "model.add(Dense(3, activation='softmax'))\n",
        "\n",
        "# Compile\n",
        "model.compile(optimizer='adam', loss='categorical_crossentropy', metrics=['accuracy'])\n",
        "\n",
        "# Train the model\n",
        "model.fit(train_x, train_y, verbose=2, batch_size=5, epochs=200)\n",
        "\n",
        "# Test on unseen data\n",
        "\n",
        "results = model.evaluate(test_x, test_y)\n",
        "\n",
        "print('Final test set loss: {:4f}'.format(results[0]))\n",
        "print('Final test set accuracy: {:4f}'.format(results[1]))\n"
      ],
      "execution_count": 0,
      "outputs": [
        {
          "output_type": "stream",
          "text": [
            "Epoch 1/200\n",
            " - 1s - loss: 1.2797 - acc: 0.3311\n",
            "Epoch 2/200\n",
            " - 0s - loss: 1.0822 - acc: 0.3311\n",
            "Epoch 3/200\n",
            " - 0s - loss: 0.9934 - acc: 0.3311\n",
            "Epoch 4/200\n",
            " - 0s - loss: 0.9261 - acc: 0.4324\n",
            "Epoch 5/200\n",
            " - 0s - loss: 0.8663 - acc: 0.6689\n",
            "Epoch 6/200\n",
            " - 0s - loss: 0.8106 - acc: 0.6689\n",
            "Epoch 7/200\n",
            " - 0s - loss: 0.7536 - acc: 0.6689\n",
            "Epoch 8/200\n",
            " - 0s - loss: 0.6984 - acc: 0.6689\n",
            "Epoch 9/200\n",
            " - 0s - loss: 0.6451 - acc: 0.6689\n",
            "Epoch 10/200\n",
            " - 0s - loss: 0.6019 - acc: 0.6757\n",
            "Epoch 11/200\n",
            " - 0s - loss: 0.5634 - acc: 0.6689\n",
            "Epoch 12/200\n",
            " - 0s - loss: 0.5315 - acc: 0.7027\n",
            "Epoch 13/200\n",
            " - 0s - loss: 0.5035 - acc: 0.7095\n",
            "Epoch 14/200\n",
            " - 0s - loss: 0.4829 - acc: 0.7500\n",
            "Epoch 15/200\n",
            " - 0s - loss: 0.4614 - acc: 0.8041\n",
            "Epoch 16/200\n",
            " - 0s - loss: 0.4453 - acc: 0.8243\n",
            "Epoch 17/200\n",
            " - 0s - loss: 0.4313 - acc: 0.8986\n",
            "Epoch 18/200\n",
            " - 0s - loss: 0.4202 - acc: 0.8649\n",
            "Epoch 19/200\n",
            " - 0s - loss: 0.4083 - acc: 0.9189\n",
            "Epoch 20/200\n",
            " - 0s - loss: 0.3979 - acc: 0.8919\n",
            "Epoch 21/200\n",
            " - 0s - loss: 0.3881 - acc: 0.9527\n",
            "Epoch 22/200\n",
            " - 0s - loss: 0.3790 - acc: 0.9189\n",
            "Epoch 23/200\n",
            " - 0s - loss: 0.3738 - acc: 0.9054\n",
            "Epoch 24/200\n",
            " - 0s - loss: 0.3639 - acc: 0.9324\n",
            "Epoch 25/200\n",
            " - 0s - loss: 0.3563 - acc: 0.9527\n",
            "Epoch 26/200\n",
            " - 0s - loss: 0.3436 - acc: 0.9189\n",
            "Epoch 27/200\n",
            " - 0s - loss: 0.3343 - acc: 0.9595\n",
            "Epoch 28/200\n",
            " - 0s - loss: 0.3274 - acc: 0.9662\n",
            "Epoch 29/200\n",
            " - 0s - loss: 0.3210 - acc: 0.9257\n",
            "Epoch 30/200\n",
            " - 0s - loss: 0.3155 - acc: 0.9595\n",
            "Epoch 31/200\n",
            " - 0s - loss: 0.3039 - acc: 0.9459\n",
            "Epoch 32/200\n",
            " - 0s - loss: 0.2968 - acc: 0.9527\n",
            "Epoch 33/200\n",
            " - 0s - loss: 0.2899 - acc: 0.9595\n",
            "Epoch 34/200\n",
            " - 0s - loss: 0.2799 - acc: 0.9662\n",
            "Epoch 35/200\n",
            " - 0s - loss: 0.2769 - acc: 0.9730\n",
            "Epoch 36/200\n",
            " - 0s - loss: 0.2704 - acc: 0.9730\n",
            "Epoch 37/200\n",
            " - 0s - loss: 0.2626 - acc: 0.9527\n",
            "Epoch 38/200\n",
            " - 0s - loss: 0.2532 - acc: 0.9865\n",
            "Epoch 39/200\n",
            " - 0s - loss: 0.2470 - acc: 0.9662\n",
            "Epoch 40/200\n",
            " - 0s - loss: 0.2400 - acc: 0.9662\n",
            "Epoch 41/200\n",
            " - 0s - loss: 0.2345 - acc: 0.9865\n",
            "Epoch 42/200\n",
            " - 0s - loss: 0.2293 - acc: 0.9797\n",
            "Epoch 43/200\n",
            " - 0s - loss: 0.2259 - acc: 0.9662\n",
            "Epoch 44/200\n",
            " - 0s - loss: 0.2170 - acc: 0.9730\n",
            "Epoch 45/200\n",
            " - 0s - loss: 0.2119 - acc: 0.9595\n",
            "Epoch 46/200\n",
            " - 0s - loss: 0.2113 - acc: 0.9595\n",
            "Epoch 47/200\n",
            " - 0s - loss: 0.2044 - acc: 0.9730\n",
            "Epoch 48/200\n",
            " - 0s - loss: 0.2011 - acc: 0.9730\n",
            "Epoch 49/200\n",
            " - 0s - loss: 0.1935 - acc: 0.9797\n",
            "Epoch 50/200\n",
            " - 0s - loss: 0.1906 - acc: 0.9730\n",
            "Epoch 51/200\n",
            " - 0s - loss: 0.1845 - acc: 0.9730\n",
            "Epoch 52/200\n",
            " - 0s - loss: 0.1807 - acc: 0.9595\n",
            "Epoch 53/200\n",
            " - 0s - loss: 0.1778 - acc: 0.9797\n",
            "Epoch 54/200\n",
            " - 0s - loss: 0.1736 - acc: 0.9797\n",
            "Epoch 55/200\n",
            " - 0s - loss: 0.1708 - acc: 0.9797\n",
            "Epoch 56/200\n",
            " - 0s - loss: 0.1639 - acc: 0.9865\n",
            "Epoch 57/200\n",
            " - 0s - loss: 0.1613 - acc: 0.9730\n",
            "Epoch 58/200\n",
            " - 0s - loss: 0.1595 - acc: 0.9797\n",
            "Epoch 59/200\n",
            " - 0s - loss: 0.1644 - acc: 0.9662\n",
            "Epoch 60/200\n",
            " - 0s - loss: 0.1527 - acc: 0.9797\n",
            "Epoch 61/200\n",
            " - 0s - loss: 0.1480 - acc: 0.9797\n",
            "Epoch 62/200\n",
            " - 0s - loss: 0.1458 - acc: 0.9797\n",
            "Epoch 63/200\n",
            " - 0s - loss: 0.1439 - acc: 0.9730\n",
            "Epoch 64/200\n",
            " - 0s - loss: 0.1424 - acc: 0.9730\n",
            "Epoch 65/200\n",
            " - 0s - loss: 0.1414 - acc: 0.9797\n",
            "Epoch 66/200\n",
            " - 0s - loss: 0.1350 - acc: 0.9797\n",
            "Epoch 67/200\n",
            " - 0s - loss: 0.1352 - acc: 0.9797\n",
            "Epoch 68/200\n",
            " - 0s - loss: 0.1300 - acc: 0.9797\n",
            "Epoch 69/200\n",
            " - 0s - loss: 0.1304 - acc: 0.9797\n",
            "Epoch 70/200\n",
            " - 0s - loss: 0.1256 - acc: 0.9797\n",
            "Epoch 71/200\n",
            " - 0s - loss: 0.1290 - acc: 0.9730\n",
            "Epoch 72/200\n",
            " - 0s - loss: 0.1299 - acc: 0.9662\n",
            "Epoch 73/200\n",
            " - 0s - loss: 0.1241 - acc: 0.9797\n",
            "Epoch 74/200\n",
            " - 0s - loss: 0.1180 - acc: 0.9797\n",
            "Epoch 75/200\n",
            " - 0s - loss: 0.1216 - acc: 0.9662\n",
            "Epoch 76/200\n",
            " - 0s - loss: 0.1164 - acc: 0.9797\n",
            "Epoch 77/200\n",
            " - 0s - loss: 0.1166 - acc: 0.9797\n",
            "Epoch 78/200\n",
            " - 0s - loss: 0.1132 - acc: 0.9797\n",
            "Epoch 79/200\n",
            " - 0s - loss: 0.1126 - acc: 0.9797\n",
            "Epoch 80/200\n",
            " - 0s - loss: 0.1118 - acc: 0.9797\n",
            "Epoch 81/200\n",
            " - 0s - loss: 0.1188 - acc: 0.9797\n",
            "Epoch 82/200\n",
            " - 0s - loss: 0.1109 - acc: 0.9662\n",
            "Epoch 83/200\n",
            " - 0s - loss: 0.1068 - acc: 0.9797\n",
            "Epoch 84/200\n",
            " - 0s - loss: 0.1086 - acc: 0.9797\n",
            "Epoch 85/200\n",
            " - 0s - loss: 0.1096 - acc: 0.9662\n",
            "Epoch 86/200\n",
            " - 0s - loss: 0.1131 - acc: 0.9662\n",
            "Epoch 87/200\n",
            " - 0s - loss: 0.1027 - acc: 0.9865\n",
            "Epoch 88/200\n",
            " - 0s - loss: 0.1037 - acc: 0.9865\n",
            "Epoch 89/200\n",
            " - 0s - loss: 0.0997 - acc: 0.9865\n",
            "Epoch 90/200\n",
            " - 0s - loss: 0.0994 - acc: 0.9865\n",
            "Epoch 91/200\n",
            " - 0s - loss: 0.0981 - acc: 0.9797\n",
            "Epoch 92/200\n",
            " - 0s - loss: 0.0971 - acc: 0.9797\n",
            "Epoch 93/200\n",
            " - 0s - loss: 0.0963 - acc: 0.9865\n",
            "Epoch 94/200\n",
            " - 0s - loss: 0.0969 - acc: 0.9797\n",
            "Epoch 95/200\n",
            " - 0s - loss: 0.0935 - acc: 0.9797\n",
            "Epoch 96/200\n",
            " - 0s - loss: 0.0930 - acc: 0.9797\n",
            "Epoch 97/200\n",
            " - 0s - loss: 0.0929 - acc: 0.9797\n",
            "Epoch 98/200\n",
            " - 0s - loss: 0.0934 - acc: 0.9797\n",
            "Epoch 99/200\n",
            " - 0s - loss: 0.0924 - acc: 0.9797\n",
            "Epoch 100/200\n",
            " - 0s - loss: 0.0903 - acc: 0.9865\n",
            "Epoch 101/200\n",
            " - 0s - loss: 0.0913 - acc: 0.9797\n",
            "Epoch 102/200\n",
            " - 0s - loss: 0.0934 - acc: 0.9865\n",
            "Epoch 103/200\n",
            " - 0s - loss: 0.0896 - acc: 0.9797\n",
            "Epoch 104/200\n",
            " - 0s - loss: 0.0895 - acc: 0.9865\n",
            "Epoch 105/200\n",
            " - 0s - loss: 0.0922 - acc: 0.9797\n",
            "Epoch 106/200\n",
            " - 0s - loss: 0.0923 - acc: 0.9730\n",
            "Epoch 107/200\n",
            " - 0s - loss: 0.0903 - acc: 0.9797\n",
            "Epoch 108/200\n",
            " - 0s - loss: 0.0859 - acc: 0.9730\n",
            "Epoch 109/200\n",
            " - 0s - loss: 0.0939 - acc: 0.9662\n",
            "Epoch 110/200\n",
            " - 0s - loss: 0.0956 - acc: 0.9595\n",
            "Epoch 111/200\n",
            " - 0s - loss: 0.0867 - acc: 0.9730\n",
            "Epoch 112/200\n",
            " - 0s - loss: 0.0869 - acc: 0.9865\n",
            "Epoch 113/200\n",
            " - 0s - loss: 0.0851 - acc: 0.9730\n",
            "Epoch 114/200\n",
            " - 0s - loss: 0.0823 - acc: 0.9730\n",
            "Epoch 115/200\n",
            " - 0s - loss: 0.0842 - acc: 0.9797\n",
            "Epoch 116/200\n",
            " - 0s - loss: 0.0839 - acc: 0.9797\n",
            "Epoch 117/200\n",
            " - 0s - loss: 0.0879 - acc: 0.9865\n",
            "Epoch 118/200\n",
            " - 0s - loss: 0.0797 - acc: 0.9865\n",
            "Epoch 119/200\n",
            " - 0s - loss: 0.0824 - acc: 0.9730\n",
            "Epoch 120/200\n",
            " - 0s - loss: 0.0816 - acc: 0.9797\n",
            "Epoch 121/200\n",
            " - 0s - loss: 0.0845 - acc: 0.9730\n",
            "Epoch 122/200\n",
            " - 0s - loss: 0.0837 - acc: 0.9730\n",
            "Epoch 123/200\n",
            " - 0s - loss: 0.0831 - acc: 0.9730\n",
            "Epoch 124/200\n",
            " - 0s - loss: 0.0839 - acc: 0.9730\n",
            "Epoch 125/200\n",
            " - 0s - loss: 0.0802 - acc: 0.9730\n",
            "Epoch 126/200\n",
            " - 0s - loss: 0.0808 - acc: 0.9797\n",
            "Epoch 127/200\n",
            " - 0s - loss: 0.0794 - acc: 0.9797\n",
            "Epoch 128/200\n",
            " - 0s - loss: 0.0767 - acc: 0.9865\n",
            "Epoch 129/200\n",
            " - 0s - loss: 0.0756 - acc: 0.9797\n",
            "Epoch 130/200\n",
            " - 0s - loss: 0.0743 - acc: 0.9865\n",
            "Epoch 131/200\n",
            " - 0s - loss: 0.0777 - acc: 0.9797\n",
            "Epoch 132/200\n",
            " - 0s - loss: 0.0795 - acc: 0.9797\n",
            "Epoch 133/200\n",
            " - 0s - loss: 0.0806 - acc: 0.9730\n",
            "Epoch 134/200\n",
            " - 0s - loss: 0.0771 - acc: 0.9797\n",
            "Epoch 135/200\n",
            " - 0s - loss: 0.0733 - acc: 0.9865\n",
            "Epoch 136/200\n",
            " - 0s - loss: 0.0729 - acc: 0.9797\n",
            "Epoch 137/200\n",
            " - 0s - loss: 0.0741 - acc: 0.9797\n",
            "Epoch 138/200\n",
            " - 0s - loss: 0.0752 - acc: 0.9730\n",
            "Epoch 139/200\n",
            " - 0s - loss: 0.0755 - acc: 0.9797\n",
            "Epoch 140/200\n",
            " - 0s - loss: 0.0747 - acc: 0.9730\n",
            "Epoch 141/200\n",
            " - 0s - loss: 0.0719 - acc: 0.9797\n",
            "Epoch 142/200\n",
            " - 0s - loss: 0.0736 - acc: 0.9797\n",
            "Epoch 143/200\n",
            " - 0s - loss: 0.0759 - acc: 0.9797\n",
            "Epoch 144/200\n",
            " - 0s - loss: 0.0706 - acc: 0.9865\n",
            "Epoch 145/200\n",
            " - 0s - loss: 0.0747 - acc: 0.9865\n",
            "Epoch 146/200\n",
            " - 0s - loss: 0.0724 - acc: 0.9797\n",
            "Epoch 147/200\n",
            " - 0s - loss: 0.0706 - acc: 0.9797\n",
            "Epoch 148/200\n",
            " - 0s - loss: 0.0717 - acc: 0.9865\n",
            "Epoch 149/200\n",
            " - 0s - loss: 0.0697 - acc: 0.9797\n",
            "Epoch 150/200\n",
            " - 0s - loss: 0.0704 - acc: 0.9797\n",
            "Epoch 151/200\n",
            " - 0s - loss: 0.0719 - acc: 0.9797\n",
            "Epoch 152/200\n",
            " - 0s - loss: 0.0819 - acc: 0.9797\n",
            "Epoch 153/200\n",
            " - 0s - loss: 0.0688 - acc: 0.9797\n",
            "Epoch 154/200\n",
            " - 0s - loss: 0.0699 - acc: 0.9797\n",
            "Epoch 155/200\n",
            " - 0s - loss: 0.0766 - acc: 0.9797\n",
            "Epoch 156/200\n",
            " - 0s - loss: 0.0712 - acc: 0.9797\n",
            "Epoch 157/200\n",
            " - 0s - loss: 0.0705 - acc: 0.9797\n",
            "Epoch 158/200\n",
            " - 0s - loss: 0.0744 - acc: 0.9662\n",
            "Epoch 159/200\n",
            " - 0s - loss: 0.0706 - acc: 0.9797\n",
            "Epoch 160/200\n",
            " - 0s - loss: 0.0681 - acc: 0.9797\n",
            "Epoch 161/200\n",
            " - 0s - loss: 0.0723 - acc: 0.9797\n",
            "Epoch 162/200\n",
            " - 0s - loss: 0.0709 - acc: 0.9797\n",
            "Epoch 163/200\n",
            " - 0s - loss: 0.0770 - acc: 0.9797\n",
            "Epoch 164/200\n",
            " - 0s - loss: 0.0699 - acc: 0.9797\n",
            "Epoch 165/200\n",
            " - 0s - loss: 0.0688 - acc: 0.9797\n",
            "Epoch 166/200\n",
            " - 0s - loss: 0.0731 - acc: 0.9662\n",
            "Epoch 167/200\n",
            " - 0s - loss: 0.0714 - acc: 0.9797\n",
            "Epoch 168/200\n",
            " - 0s - loss: 0.0751 - acc: 0.9865\n",
            "Epoch 169/200\n",
            " - 0s - loss: 0.0744 - acc: 0.9730\n",
            "Epoch 170/200\n",
            " - 0s - loss: 0.0695 - acc: 0.9797\n",
            "Epoch 171/200\n",
            " - 0s - loss: 0.0661 - acc: 0.9730\n",
            "Epoch 172/200\n",
            " - 0s - loss: 0.0705 - acc: 0.9797\n",
            "Epoch 173/200\n",
            " - 0s - loss: 0.0717 - acc: 0.9797\n",
            "Epoch 174/200\n",
            " - 0s - loss: 0.0695 - acc: 0.9797\n",
            "Epoch 175/200\n",
            " - 0s - loss: 0.0684 - acc: 0.9797\n",
            "Epoch 176/200\n",
            " - 0s - loss: 0.0767 - acc: 0.9932\n",
            "Epoch 177/200\n",
            " - 0s - loss: 0.0647 - acc: 0.9797\n",
            "Epoch 178/200\n",
            " - 0s - loss: 0.0657 - acc: 0.9730\n",
            "Epoch 179/200\n",
            " - 0s - loss: 0.0709 - acc: 0.9730\n",
            "Epoch 180/200\n",
            " - 0s - loss: 0.0729 - acc: 0.9730\n",
            "Epoch 181/200\n",
            " - 0s - loss: 0.0680 - acc: 0.9730\n",
            "Epoch 182/200\n",
            " - 0s - loss: 0.0680 - acc: 0.9797\n",
            "Epoch 183/200\n",
            " - 0s - loss: 0.0651 - acc: 0.9932\n",
            "Epoch 184/200\n",
            " - 0s - loss: 0.0656 - acc: 0.9797\n",
            "Epoch 185/200\n",
            " - 0s - loss: 0.0679 - acc: 0.9730\n",
            "Epoch 186/200\n",
            " - 0s - loss: 0.0693 - acc: 0.9797\n",
            "Epoch 187/200\n",
            " - 0s - loss: 0.0724 - acc: 0.9797\n",
            "Epoch 188/200\n",
            " - 0s - loss: 0.0734 - acc: 0.9527\n",
            "Epoch 189/200\n",
            " - 0s - loss: 0.0686 - acc: 0.9797\n",
            "Epoch 190/200\n",
            " - 0s - loss: 0.0672 - acc: 0.9730\n",
            "Epoch 191/200\n",
            " - 0s - loss: 0.0674 - acc: 0.9797\n",
            "Epoch 192/200\n",
            " - 0s - loss: 0.0658 - acc: 0.9797\n",
            "Epoch 193/200\n",
            " - 0s - loss: 0.0664 - acc: 0.9865\n",
            "Epoch 194/200\n",
            " - 0s - loss: 0.0648 - acc: 0.9730\n",
            "Epoch 195/200\n",
            " - 0s - loss: 0.0640 - acc: 0.9797\n",
            "Epoch 196/200\n",
            " - 0s - loss: 0.0691 - acc: 0.9865\n",
            "Epoch 197/200\n",
            " - 0s - loss: 0.0693 - acc: 0.9797\n",
            "Epoch 198/200\n",
            " - 0s - loss: 0.0676 - acc: 0.9797\n",
            "Epoch 199/200\n",
            " - 0s - loss: 0.0645 - acc: 0.9865\n",
            "Epoch 200/200\n",
            " - 0s - loss: 0.0633 - acc: 0.9730\n",
            "2/2 [==============================] - 0s 129ms/step\n",
            "Final test set loss: 0.001131\n",
            "Final test set accuracy: 1.000000\n"
          ],
          "name": "stdout"
        }
      ]
    },
    {
      "cell_type": "markdown",
      "metadata": {
        "id": "-rkZZKV4yV9U",
        "colab_type": "text"
      },
      "source": [
        "#Thank you for completing this notebook.\n",
        "\n"
      ]
    },
    {
      "cell_type": "markdown",
      "metadata": {
        "id": "kl-88q4Mu-OH",
        "colab_type": "text"
      },
      "source": [
        "\n",
        "<!--\n",
        "    model = Sequential()\n",
        "    model.add(Dense(1024, input_shape=(3072, )))\n",
        "    model.add(Activation('relu'))\n",
        "    model.add(Dropout(0.2))\n",
        "    model.add(Dense(512))\n",
        "    model.add(Activation('relu'))\n",
        "    model.add(Dropout(0.2))\n",
        "    model.add(Dense(512))\n",
        "    model.add(Activation('relu'))\n",
        "    model.add(Dropout(0.2))\n",
        "    model.add(Dense(10))\n",
        "    model.add(Activation('softmax'))\n",
        "\n",
        "    model.compile(loss='categorical_crossentropy',\n",
        "                  optimizer='adam',\n",
        "                  metrics=['accuracy'])\n",
        "    model.summary()\n",
        "\n",
        "    # training\n",
        "    history = model.fit(X_train, Y_train,\n",
        "                        batch_size=batch_size,\n",
        "                        nb_epoch=nb_epoch,\n",
        "                        verbose=1,\n",
        "                        validation_data=(X_test, Y_test))\n",
        "\n",
        "-->"
      ]
    }
  ]
}
