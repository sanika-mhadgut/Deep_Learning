{
  "nbformat": 4,
  "nbformat_minor": 0,
  "metadata": {
    "colab": {
      "name": "J031_J2_test1.ipynb",
      "provenance": [],
      "collapsed_sections": [],
      "authorship_tag": "ABX9TyO9K53KIxfYpOWJoEmnvlPs",
      "include_colab_link": true
    },
    "kernelspec": {
      "name": "python3",
      "display_name": "Python 3"
    }
  },
  "cells": [
    {
      "cell_type": "markdown",
      "metadata": {
        "id": "view-in-github",
        "colab_type": "text"
      },
      "source": [
        "<a href=\"https://colab.research.google.com/github/sanika-mhadgut/Deep_Learning/blob/master/J031_J2_test1.ipynb\" target=\"_parent\"><img src=\"https://colab.research.google.com/assets/colab-badge.svg\" alt=\"Open In Colab\"/></a>"
      ]
    },
    {
      "cell_type": "markdown",
      "metadata": {
        "id": "1rYAlR6AKn6J",
        "colab_type": "text"
      },
      "source": [
        "# DEEP LEARNING TEST 1\n",
        "\n",
        "### NAME : SANIKA MHADGUT\n",
        "### BATCH : BTECH DS J2\n",
        "### DATE : 15/1/2020"
      ]
    },
    {
      "cell_type": "code",
      "metadata": {
        "id": "Q9XIftkhWwwp",
        "colab_type": "code",
        "colab": {}
      },
      "source": [
        "from keras import optimizers\n",
        "import keras\n",
        "from keras import models\n",
        "from keras.layers import Dense, Dropout\n",
        "from keras.utils import to_categorical\n",
        "adamax=keras.optimizers.Adamax(lr=0.002, beta_1=0.9, beta_2=0.999)\n"
      ],
      "execution_count": 0,
      "outputs": []
    },
    {
      "cell_type": "code",
      "metadata": {
        "id": "ibmdUHS3JX2T",
        "colab_type": "code",
        "colab": {}
      },
      "source": [
        "\n",
        "\n",
        "NUM_ROWS = 28\n",
        "NUM_COLS = 28\n",
        "NUM_CLASSES = 10\n",
        "BATCH_SIZE = 128\n",
        "EPOCHS = 10"
      ],
      "execution_count": 0,
      "outputs": []
    },
    {
      "cell_type": "markdown",
      "metadata": {
        "id": "msXJU910TgAp",
        "colab_type": "text"
      },
      "source": [
        "# Q. 1 - Download Mnist dataset"
      ]
    },
    {
      "cell_type": "code",
      "metadata": {
        "id": "-KCetOP6JX7C",
        "colab_type": "code",
        "outputId": "5cd975a8-2e49-40a2-b0f9-a61e628d6319",
        "colab": {
          "base_uri": "https://localhost:8080/",
          "height": 119
        }
      },
      "source": [
        "# Load MNIST data\n",
        "(X_train, y_train), (X_test, y_test) = mnist.load_data()\n",
        "\n",
        "# Check state of dataset\n",
        "data_summary(X_train, y_train, X_test, y_test)"
      ],
      "execution_count": 0,
      "outputs": [
        {
          "output_type": "stream",
          "text": [
            "Train images shape: (60000, 28, 28)\n",
            "Train labels shape: (60000,)\n",
            "Test images shape: (10000, 28, 28)\n",
            "Test labels shape: (10000,)\n",
            "Train labels: [5 0 4 ... 5 6 8]\n",
            "Test labels: [7 2 1 ... 4 5 6]\n"
          ],
          "name": "stdout"
        }
      ]
    },
    {
      "cell_type": "code",
      "metadata": {
        "id": "K2VOH-ifJwYj",
        "colab_type": "code",
        "outputId": "47ecc3fa-8982-4471-deab-10f56cb4749d",
        "colab": {
          "base_uri": "https://localhost:8080/",
          "height": 323
        }
      },
      "source": [
        "# Reshape data\n",
        "X_train = X_train.reshape((X_train.shape[0], NUM_ROWS * NUM_COLS))\n",
        "X_train = X_train.astype('float32') / 255\n",
        "X_test = X_test.reshape((X_test.shape[0], NUM_ROWS * NUM_COLS))\n",
        "X_test = X_test.astype('float32') / 255\n",
        "\n",
        "# Categorically encode labels\n",
        "y_train = to_categorical(y_train, NUM_CLASSES)\n",
        "y_test = to_categorical(y_test, NUM_CLASSES)\n",
        "\n",
        "# Check state of dataset\n",
        "data_summary(X_train, y_train, X_test, y_test)"
      ],
      "execution_count": 0,
      "outputs": [
        {
          "output_type": "stream",
          "text": [
            "Train images shape: (60000, 784)\n",
            "Train labels shape: (60000, 10)\n",
            "Test images shape: (10000, 784)\n",
            "Test labels shape: (10000, 10)\n",
            "Train labels: [[0. 0. 0. ... 0. 0. 0.]\n",
            " [1. 0. 0. ... 0. 0. 0.]\n",
            " [0. 0. 0. ... 0. 0. 0.]\n",
            " ...\n",
            " [0. 0. 0. ... 0. 0. 0.]\n",
            " [0. 0. 0. ... 0. 0. 0.]\n",
            " [0. 0. 0. ... 0. 1. 0.]]\n",
            "Test labels: [[0. 0. 0. ... 1. 0. 0.]\n",
            " [0. 0. 1. ... 0. 0. 0.]\n",
            " [0. 1. 0. ... 0. 0. 0.]\n",
            " ...\n",
            " [0. 0. 0. ... 0. 0. 0.]\n",
            " [0. 0. 0. ... 0. 0. 0.]\n",
            " [0. 0. 0. ... 0. 0. 0.]]\n"
          ],
          "name": "stdout"
        }
      ]
    },
    {
      "cell_type": "markdown",
      "metadata": {
        "id": "ppIhNpa2TrVB",
        "colab_type": "text"
      },
      "source": [
        "## Q. 2 - Build Neural Network CV"
      ]
    },
    {
      "cell_type": "markdown",
      "metadata": {
        "id": "P-S3FM6pQuVV",
        "colab_type": "text"
      },
      "source": [
        "# Optimizer as rmsprop doesnt give 100% so we try using adamax optimizer\n",
        "\n"
      ]
    },
    {
      "cell_type": "code",
      "metadata": {
        "id": "RboEqtA6RG7i",
        "colab_type": "code",
        "colab": {}
      },
      "source": [
        "# Build neural network\n",
        "model = models.Sequential()\n",
        "model.add(Dense(512, activation='relu', input_shape=(NUM_ROWS * NUM_COLS,)))\n",
        "model.add(Dense(256, activation='relu'))\n",
        "model.add(Dense(10, activation='softmax'))\n",
        "\n",
        "# Compile model\n",
        "model.compile(optimizer='rmsprop',\n",
        "              loss='categorical_crossentropy',\n",
        "              metrics=['accuracy'])\n",
        "\n",
        "model.compile(optimizer=adamax,\n",
        "              loss='categorical_crossentropy',\n",
        "              metrics=['accuracy'])"
      ],
      "execution_count": 0,
      "outputs": []
    },
    {
      "cell_type": "code",
      "metadata": {
        "id": "Ba_-yP5eXRTo",
        "colab_type": "code",
        "outputId": "5f89d76c-819a-407d-9cdb-265abe1c688c",
        "colab": {
          "base_uri": "https://localhost:8080/",
          "height": 391
        }
      },
      "source": [
        "# Train model\n",
        "model.fit(X_train, y_train,\n",
        "          batch_size=BATCH_SIZE,\n",
        "          epochs=EPOCHS,\n",
        "          verbose=1,\n",
        "          validation_data=(X_test, y_test))"
      ],
      "execution_count": 0,
      "outputs": [
        {
          "output_type": "stream",
          "text": [
            "Train on 60000 samples, validate on 10000 samples\n",
            "Epoch 1/10\n",
            "60000/60000 [==============================] - 8s 134us/step - loss: 0.2388 - acc: 0.9296 - val_loss: 0.1278 - val_acc: 0.9629\n",
            "Epoch 2/10\n",
            "60000/60000 [==============================] - 7s 118us/step - loss: 0.0994 - acc: 0.9706 - val_loss: 0.0850 - val_acc: 0.9738\n",
            "Epoch 3/10\n",
            "60000/60000 [==============================] - 7s 117us/step - loss: 0.0648 - acc: 0.9806 - val_loss: 0.0770 - val_acc: 0.9762\n",
            "Epoch 4/10\n",
            "60000/60000 [==============================] - 7s 117us/step - loss: 0.0464 - acc: 0.9859 - val_loss: 0.0650 - val_acc: 0.9790\n",
            "Epoch 5/10\n",
            "60000/60000 [==============================] - 7s 117us/step - loss: 0.0330 - acc: 0.9899 - val_loss: 0.0642 - val_acc: 0.9805\n",
            "Epoch 6/10\n",
            "60000/60000 [==============================] - 7s 116us/step - loss: 0.0249 - acc: 0.9925 - val_loss: 0.0577 - val_acc: 0.9821\n",
            "Epoch 7/10\n",
            "60000/60000 [==============================] - 7s 115us/step - loss: 0.0171 - acc: 0.9954 - val_loss: 0.0636 - val_acc: 0.9814\n",
            "Epoch 8/10\n",
            "60000/60000 [==============================] - 7s 116us/step - loss: 0.0122 - acc: 0.9968 - val_loss: 0.0663 - val_acc: 0.9812\n",
            "Epoch 9/10\n",
            "60000/60000 [==============================] - 7s 115us/step - loss: 0.0090 - acc: 0.9978 - val_loss: 0.0592 - val_acc: 0.9837\n",
            "Epoch 10/10\n",
            "60000/60000 [==============================] - 7s 114us/step - loss: 0.0061 - acc: 0.9986 - val_loss: 0.0639 - val_acc: 0.9818\n"
          ],
          "name": "stdout"
        },
        {
          "output_type": "execute_result",
          "data": {
            "text/plain": [
              "<keras.callbacks.History at 0x7ff379513b70>"
            ]
          },
          "metadata": {
            "tags": []
          },
          "execution_count": 99
        }
      ]
    },
    {
      "cell_type": "code",
      "metadata": {
        "id": "722RAMDIV1Mg",
        "colab_type": "code",
        "outputId": "86886078-d5d0-482e-feaa-b1cb07793dec",
        "colab": {
          "base_uri": "https://localhost:8080/",
          "height": 51
        }
      },
      "source": [
        "score = model.evaluate(X_test, y_test, verbose=0)\n",
        "print('Test loss:', score[0])\n",
        "print('Test accuracy:', score[1])"
      ],
      "execution_count": 0,
      "outputs": [
        {
          "output_type": "stream",
          "text": [
            "Test loss: 0.06393647281026933\n",
            "Test accuracy: 0.9818\n"
          ],
          "name": "stdout"
        }
      ]
    },
    {
      "cell_type": "markdown",
      "metadata": {
        "id": "za304xhzUBqy",
        "colab_type": "text"
      },
      "source": [
        "## Q. 4 - Model summary"
      ]
    },
    {
      "cell_type": "code",
      "metadata": {
        "id": "8t-Or4fWJw-w",
        "colab_type": "code",
        "outputId": "6c3bc64f-eb71-4988-d9eb-c6c699712eac",
        "colab": {
          "base_uri": "https://localhost:8080/",
          "height": 255
        }
      },
      "source": [
        "# Summary of neural network\n",
        "model.summary()#adamax "
      ],
      "execution_count": 0,
      "outputs": [
        {
          "output_type": "stream",
          "text": [
            "Model: \"sequential_15\"\n",
            "_________________________________________________________________\n",
            "Layer (type)                 Output Shape              Param #   \n",
            "=================================================================\n",
            "dense_43 (Dense)             (None, 512)               401920    \n",
            "_________________________________________________________________\n",
            "dense_44 (Dense)             (None, 256)               131328    \n",
            "_________________________________________________________________\n",
            "dense_45 (Dense)             (None, 10)                2570      \n",
            "=================================================================\n",
            "Total params: 535,818\n",
            "Trainable params: 535,818\n",
            "Non-trainable params: 0\n",
            "_________________________________________________________________\n"
          ],
          "name": "stdout"
        }
      ]
    },
    {
      "cell_type": "code",
      "metadata": {
        "id": "GIhPan-DJxBQ",
        "colab_type": "code",
        "outputId": "86f4b8b4-2670-4ac6-f256-d02ffd730157",
        "colab": {
          "base_uri": "https://localhost:8080/",
          "height": 490
        }
      },
      "source": [
        "# Output network visualization\n",
        "SVG(model_to_dot(model).create(prog='dot', format='svg'))"
      ],
      "execution_count": 0,
      "outputs": [
        {
          "output_type": "execute_result",
          "data": {
            "text/plain": [
              "<IPython.core.display.SVG object>"
            ],
            "image/svg+xml": "<svg height=\"352pt\" viewBox=\"0.00 0.00 188.00 264.00\" width=\"251pt\" xmlns=\"http://www.w3.org/2000/svg\" xmlns:xlink=\"http://www.w3.org/1999/xlink\">\n<g class=\"graph\" id=\"graph0\" transform=\"scale(1.3333 1.3333) rotate(0) translate(4 260)\">\n<title>G</title>\n<polygon fill=\"#ffffff\" points=\"-4,4 -4,-260 184,-260 184,4 -4,4\" stroke=\"transparent\"/>\n<!-- 140683695994360 -->\n<g class=\"node\" id=\"node1\">\n<title>140683695994360</title>\n<polygon fill=\"none\" points=\"0,-219.5 0,-255.5 180,-255.5 180,-219.5 0,-219.5\" stroke=\"#000000\"/>\n<text fill=\"#000000\" font-family=\"Times,serif\" font-size=\"14.00\" text-anchor=\"middle\" x=\"90\" y=\"-233.8\">dense_43_input: InputLayer</text>\n</g>\n<!-- 140683695994080 -->\n<g class=\"node\" id=\"node2\">\n<title>140683695994080</title>\n<polygon fill=\"none\" points=\"33,-146.5 33,-182.5 147,-182.5 147,-146.5 33,-146.5\" stroke=\"#000000\"/>\n<text fill=\"#000000\" font-family=\"Times,serif\" font-size=\"14.00\" text-anchor=\"middle\" x=\"90\" y=\"-160.8\">dense_43: Dense</text>\n</g>\n<!-- 140683695994360&#45;&gt;140683695994080 -->\n<g class=\"edge\" id=\"edge1\">\n<title>140683695994360-&gt;140683695994080</title>\n<path d=\"M90,-219.4551C90,-211.3828 90,-201.6764 90,-192.6817\" fill=\"none\" stroke=\"#000000\"/>\n<polygon fill=\"#000000\" points=\"93.5001,-192.5903 90,-182.5904 86.5001,-192.5904 93.5001,-192.5903\" stroke=\"#000000\"/>\n</g>\n<!-- 140683695994192 -->\n<g class=\"node\" id=\"node3\">\n<title>140683695994192</title>\n<polygon fill=\"none\" points=\"33,-73.5 33,-109.5 147,-109.5 147,-73.5 33,-73.5\" stroke=\"#000000\"/>\n<text fill=\"#000000\" font-family=\"Times,serif\" font-size=\"14.00\" text-anchor=\"middle\" x=\"90\" y=\"-87.8\">dense_44: Dense</text>\n</g>\n<!-- 140683695994080&#45;&gt;140683695994192 -->\n<g class=\"edge\" id=\"edge2\">\n<title>140683695994080-&gt;140683695994192</title>\n<path d=\"M90,-146.4551C90,-138.3828 90,-128.6764 90,-119.6817\" fill=\"none\" stroke=\"#000000\"/>\n<polygon fill=\"#000000\" points=\"93.5001,-119.5903 90,-109.5904 86.5001,-119.5904 93.5001,-119.5903\" stroke=\"#000000\"/>\n</g>\n<!-- 140683688066408 -->\n<g class=\"node\" id=\"node4\">\n<title>140683688066408</title>\n<polygon fill=\"none\" points=\"33,-.5 33,-36.5 147,-36.5 147,-.5 33,-.5\" stroke=\"#000000\"/>\n<text fill=\"#000000\" font-family=\"Times,serif\" font-size=\"14.00\" text-anchor=\"middle\" x=\"90\" y=\"-14.8\">dense_45: Dense</text>\n</g>\n<!-- 140683695994192&#45;&gt;140683688066408 -->\n<g class=\"edge\" id=\"edge3\">\n<title>140683695994192-&gt;140683688066408</title>\n<path d=\"M90,-73.4551C90,-65.3828 90,-55.6764 90,-46.6817\" fill=\"none\" stroke=\"#000000\"/>\n<polygon fill=\"#000000\" points=\"93.5001,-46.5903 90,-36.5904 86.5001,-46.5904 93.5001,-46.5903\" stroke=\"#000000\"/>\n</g>\n</g>\n</svg>"
          },
          "metadata": {
            "tags": []
          },
          "execution_count": 102
        }
      ]
    },
    {
      "cell_type": "markdown",
      "metadata": {
        "id": "RpEMq8YFUHJZ",
        "colab_type": "text"
      },
      "source": [
        "# Q. 3 - History"
      ]
    },
    {
      "cell_type": "code",
      "metadata": {
        "id": "wX3ex1jJJxH6",
        "colab_type": "code",
        "outputId": "94cf91b5-ee2b-465e-f121-125ccd51ce9f",
        "colab": {
          "base_uri": "https://localhost:8080/",
          "height": 428
        }
      },
      "source": [
        "# training\n",
        "history = model.fit(X_train, y_train,\n",
        "                        batch_size=128,\n",
        "                        nb_epoch=10,\n",
        "                        verbose=1,\n",
        "                        validation_data=(X_test, y_test))"
      ],
      "execution_count": 0,
      "outputs": [
        {
          "output_type": "stream",
          "text": [
            "Train on 60000 samples, validate on 10000 samples\n",
            "Epoch 1/10\n",
            " 1152/60000 [..............................] - ETA: 7s - loss: 0.0037 - acc: 0.9991"
          ],
          "name": "stdout"
        },
        {
          "output_type": "stream",
          "text": [
            "/usr/local/lib/python3.6/dist-packages/ipykernel_launcher.py:5: UserWarning: The `nb_epoch` argument in `fit` has been renamed `epochs`.\n",
            "  \"\"\"\n"
          ],
          "name": "stderr"
        },
        {
          "output_type": "stream",
          "text": [
            "60000/60000 [==============================] - 7s 115us/step - loss: 0.0042 - acc: 0.9993 - val_loss: 0.0572 - val_acc: 0.9841\n",
            "Epoch 2/10\n",
            "60000/60000 [==============================] - 7s 115us/step - loss: 0.0029 - acc: 0.9996 - val_loss: 0.0615 - val_acc: 0.9854\n",
            "Epoch 3/10\n",
            "60000/60000 [==============================] - 7s 117us/step - loss: 0.0025 - acc: 0.9996 - val_loss: 0.0633 - val_acc: 0.9852\n",
            "Epoch 4/10\n",
            "60000/60000 [==============================] - 7s 115us/step - loss: 0.0016 - acc: 0.9999 - val_loss: 0.0676 - val_acc: 0.9831\n",
            "Epoch 5/10\n",
            "60000/60000 [==============================] - 7s 114us/step - loss: 0.0014 - acc: 0.9998 - val_loss: 0.0768 - val_acc: 0.9824\n",
            "Epoch 6/10\n",
            "60000/60000 [==============================] - 7s 114us/step - loss: 0.0011 - acc: 0.9999 - val_loss: 0.0650 - val_acc: 0.9844\n",
            "Epoch 7/10\n",
            "60000/60000 [==============================] - 7s 115us/step - loss: 4.6124e-04 - acc: 1.0000 - val_loss: 0.0663 - val_acc: 0.9842\n",
            "Epoch 8/10\n",
            "60000/60000 [==============================] - 7s 114us/step - loss: 9.0005e-04 - acc: 0.9998 - val_loss: 0.0699 - val_acc: 0.9841\n",
            "Epoch 9/10\n",
            "60000/60000 [==============================] - 7s 114us/step - loss: 2.4679e-04 - acc: 1.0000 - val_loss: 0.0686 - val_acc: 0.9844\n",
            "Epoch 10/10\n",
            "60000/60000 [==============================] - 7s 116us/step - loss: 1.4610e-04 - acc: 1.0000 - val_loss: 0.0708 - val_acc: 0.9848\n"
          ],
          "name": "stdout"
        }
      ]
    },
    {
      "cell_type": "code",
      "metadata": {
        "id": "vfoDLnZ-X9O_",
        "colab_type": "code",
        "outputId": "bcc34ead-580a-41c1-891d-1987a106440b",
        "colab": {
          "base_uri": "https://localhost:8080/",
          "height": 573
        }
      },
      "source": [
        "import matplotlib.pyplot as plt\n",
        "# Plot training & validation accuracy values\n",
        "plt.plot(history.history['acc'])\n",
        "plt.plot(history.history['val_acc'])\n",
        "plt.title('Model accuracy')\n",
        "plt.ylabel('Accuracy')\n",
        "plt.xlabel('Epoch')\n",
        "plt.legend(['Train', 'Test'], loc='upper left')\n",
        "plt.show()\n",
        "\n",
        "# Plot training & validation loss values\n",
        "plt.plot(history.history['loss'])\n",
        "plt.plot(history.history['val_loss'])\n",
        "plt.title('Model loss')\n",
        "plt.ylabel('Loss')\n",
        "plt.xlabel('Epoch')\n",
        "plt.legend(['Train', 'Test'], loc='upper left')\n",
        "plt.show()"
      ],
      "execution_count": 0,
      "outputs": [
        {
          "output_type": "display_data",
          "data": {
            "image/png": "[encoded data removed]",
            "text/plain": [
              "<Figure size 432x288 with 1 Axes>"
            ]
          },
          "metadata": {
            "tags": []
          }
        },
        {
          "output_type": "display_data",
          "data": {
            "image/png": "[encoded data removed]",
            "text/plain": [
              "<Figure size 432x288 with 1 Axes>"
            ]
          },
          "metadata": {
            "tags": []
          }
        }
      ]
    },
    {
      "cell_type": "markdown",
      "metadata": {
        "id": "-PgDCBCGYIh7",
        "colab_type": "text"
      },
      "source": [
        "# Download Fashion MNIST dataset"
      ]
    },
    {
      "cell_type": "code",
      "metadata": {
        "id": "6kmyAPb3YW20",
        "colab_type": "code",
        "colab": {}
      },
      "source": [
        "from keras.datasets import fashion_mnist\n",
        "from keras.datasets import cifar10\n",
        "from keras.datasets import cifar100\n",
        "from sklearn.datasets import load_iris\n",
        "import matplotlib.pyplot as plt"
      ],
      "execution_count": 0,
      "outputs": []
    },
    {
      "cell_type": "code",
      "metadata": {
        "id": "QyagI725YgGr",
        "colab_type": "code",
        "outputId": "7b9d4eab-0cd1-4f90-b829-199f1965594a",
        "colab": {
          "base_uri": "https://localhost:8080/",
          "height": 544
        }
      },
      "source": [
        "from keras import optimizers\n",
        "import keras\n",
        "from keras import models\n",
        "from keras.layers import Dense, Dropout\n",
        "from keras.utils import to_categorical\n",
        "adamax=keras.optimizers.Adamax(lr=0.002, beta_1=0.9, beta_2=0.999)\n",
        "# Compile model using above optimizer\n",
        "\n",
        "NUM_ROWS = 28\n",
        "NUM_COLS = 28\n",
        "NUM_CLASSES = 10\n",
        "BATCH_SIZE = 128\n",
        "EPOCHS = 10\n",
        "\n",
        "# Load data\n",
        "(X_train, y_train), (X_test, y_test) = fashion_mnist.load_data()\n",
        "\n",
        "# Reshape data\n",
        "X_train = X_train.reshape((X_train.shape[0], NUM_ROWS * NUM_COLS))\n",
        "X_train = X_train.astype('float32') / 255\n",
        "X_test = X_test.reshape((X_test.shape[0], NUM_ROWS * NUM_COLS))\n",
        "X_test = X_test.astype('float32') / 255\n",
        "\n",
        "# Categorically encode labels\n",
        "y_train = to_categorical(y_train, NUM_CLASSES)\n",
        "y_test = to_categorical(y_test, NUM_CLASSES)\n",
        "\n",
        "# Build neural network\n",
        "model = models.Sequential()\n",
        "model.add(Dense(512, activation='relu', input_shape=(NUM_ROWS * NUM_COLS,)))\n",
        "model.add(Dense(256, activation='relu'))\n",
        "model.add(Dense(10, activation='softmax'))\n",
        "\n",
        "# Compile model\n",
        "model.compile(optimizer='rmsprop',\n",
        "              loss='categorical_crossentropy',\n",
        "              metrics=['accuracy'])\n",
        "\n",
        "model.compile(optimizer=adamax,\n",
        "              loss='categorical_crossentropy',\n",
        "              metrics=['accuracy'])\n",
        "\n",
        "# Train model\n",
        "model.fit(X_train, y_train,\n",
        "          batch_size=BATCH_SIZE,\n",
        "          epochs=EPOCHS,\n",
        "          verbose=1,\n",
        "          validation_data=(X_test, y_test))\n",
        "\n",
        "score = model.evaluate(X_test, y_test, verbose=0)\n",
        "print('Test loss:', score[0])\n",
        "print('Test accuracy:', score[1])"
      ],
      "execution_count": 0,
      "outputs": [
        {
          "output_type": "stream",
          "text": [
            "Downloading data from http://fashion-mnist.s3-website.eu-central-1.amazonaws.com/train-labels-idx1-ubyte.gz\n",
            "32768/29515 [=================================] - 0s 4us/step\n",
            "Downloading data from http://fashion-mnist.s3-website.eu-central-1.amazonaws.com/train-images-idx3-ubyte.gz\n",
            "26427392/26421880 [==============================] - 2s 0us/step\n",
            "Downloading data from http://fashion-mnist.s3-website.eu-central-1.amazonaws.com/t10k-labels-idx1-ubyte.gz\n",
            "8192/5148 [===============================================] - 0s 0us/step\n",
            "Downloading data from http://fashion-mnist.s3-website.eu-central-1.amazonaws.com/t10k-images-idx3-ubyte.gz\n",
            "4423680/4422102 [==============================] - 1s 0us/step\n",
            "Train on 60000 samples, validate on 10000 samples\n",
            "Epoch 1/10\n",
            "60000/60000 [==============================] - 7s 125us/step - loss: 0.4931 - acc: 0.8272 - val_loss: 0.4231 - val_acc: 0.8512\n",
            "Epoch 2/10\n",
            "60000/60000 [==============================] - 7s 112us/step - loss: 0.3664 - acc: 0.8676 - val_loss: 0.3924 - val_acc: 0.8613\n",
            "Epoch 3/10\n",
            "60000/60000 [==============================] - 7s 111us/step - loss: 0.3279 - acc: 0.8808 - val_loss: 0.3575 - val_acc: 0.8719\n",
            "Epoch 4/10\n",
            "60000/60000 [==============================] - 7s 111us/step - loss: 0.3038 - acc: 0.8888 - val_loss: 0.3625 - val_acc: 0.8682\n",
            "Epoch 5/10\n",
            "60000/60000 [==============================] - 7s 111us/step - loss: 0.2856 - acc: 0.8942 - val_loss: 0.3302 - val_acc: 0.8810\n",
            "Epoch 6/10\n",
            "60000/60000 [==============================] - 7s 112us/step - loss: 0.2681 - acc: 0.9013 - val_loss: 0.3254 - val_acc: 0.8800\n",
            "Epoch 7/10\n",
            "60000/60000 [==============================] - 7s 112us/step - loss: 0.2535 - acc: 0.9056 - val_loss: 0.3370 - val_acc: 0.8788\n",
            "Epoch 8/10\n",
            "60000/60000 [==============================] - 7s 112us/step - loss: 0.2436 - acc: 0.9083 - val_loss: 0.3329 - val_acc: 0.8815\n",
            "Epoch 9/10\n",
            "60000/60000 [==============================] - 7s 112us/step - loss: 0.2293 - acc: 0.9139 - val_loss: 0.3091 - val_acc: 0.8867\n",
            "Epoch 10/10\n",
            "60000/60000 [==============================] - 7s 113us/step - loss: 0.2215 - acc: 0.9165 - val_loss: 0.3190 - val_acc: 0.8836\n",
            "Test loss: 0.3189900208711624\n",
            "Test accuracy: 0.8836\n"
          ],
          "name": "stdout"
        }
      ]
    },
    {
      "cell_type": "code",
      "metadata": {
        "id": "ldurlJfqYqxY",
        "colab_type": "code",
        "outputId": "dfa5de69-9d2f-4d1d-a746-2682316089cd",
        "colab": {
          "base_uri": "https://localhost:8080/",
          "height": 984
        }
      },
      "source": [
        "# training\n",
        "history = model.fit(X_train, y_train,\n",
        "                        batch_size=128,\n",
        "                        nb_epoch=10,\n",
        "                        verbose=1,\n",
        "                        validation_data=(X_test, y_test))\n",
        "\n",
        "import matplotlib.pyplot as plt\n",
        "# Plot training & validation accuracy values\n",
        "plt.plot(history.history['acc'])\n",
        "plt.plot(history.history['val_acc'])\n",
        "plt.title('Model accuracy')\n",
        "plt.ylabel('Accuracy')\n",
        "plt.xlabel('Epoch')\n",
        "plt.legend(['Train', 'Test'], loc='upper left')\n",
        "plt.show()\n",
        "\n",
        "# Plot training & validation loss values\n",
        "plt.plot(history.history['loss'])\n",
        "plt.plot(history.history['val_loss'])\n",
        "plt.title('Model loss')\n",
        "plt.ylabel('Loss')\n",
        "plt.xlabel('Epoch')\n",
        "plt.legend(['Train', 'Test'], loc='upper left')\n",
        "plt.show()"
      ],
      "execution_count": 0,
      "outputs": [
        {
          "output_type": "stream",
          "text": [
            "Train on 60000 samples, validate on 10000 samples\n",
            "Epoch 1/10\n",
            " 1664/60000 [..............................] - ETA: 6s - loss: 0.2026 - acc: 0.9189"
          ],
          "name": "stdout"
        },
        {
          "output_type": "stream",
          "text": [
            "/usr/local/lib/python3.6/dist-packages/ipykernel_launcher.py:5: UserWarning: The `nb_epoch` argument in `fit` has been renamed `epochs`.\n",
            "  \"\"\"\n"
          ],
          "name": "stderr"
        },
        {
          "output_type": "stream",
          "text": [
            "60000/60000 [==============================] - 7s 112us/step - loss: 0.2103 - acc: 0.9216 - val_loss: 0.3128 - val_acc: 0.8906\n",
            "Epoch 2/10\n",
            "60000/60000 [==============================] - 7s 114us/step - loss: 0.2010 - acc: 0.9244 - val_loss: 0.3131 - val_acc: 0.8910\n",
            "Epoch 3/10\n",
            "60000/60000 [==============================] - 7s 113us/step - loss: 0.1920 - acc: 0.9269 - val_loss: 0.3079 - val_acc: 0.8932\n",
            "Epoch 4/10\n",
            "60000/60000 [==============================] - 7s 114us/step - loss: 0.1851 - acc: 0.9307 - val_loss: 0.3152 - val_acc: 0.8899\n",
            "Epoch 5/10\n",
            "60000/60000 [==============================] - 7s 115us/step - loss: 0.1756 - acc: 0.9342 - val_loss: 0.3193 - val_acc: 0.8899\n",
            "Epoch 6/10\n",
            "60000/60000 [==============================] - 7s 113us/step - loss: 0.1701 - acc: 0.9358 - val_loss: 0.3150 - val_acc: 0.8973\n",
            "Epoch 7/10\n",
            "60000/60000 [==============================] - 7s 115us/step - loss: 0.1629 - acc: 0.9392 - val_loss: 0.3264 - val_acc: 0.8934\n",
            "Epoch 8/10\n",
            "60000/60000 [==============================] - 7s 114us/step - loss: 0.1574 - acc: 0.9402 - val_loss: 0.3173 - val_acc: 0.8955\n",
            "Epoch 9/10\n",
            "60000/60000 [==============================] - 7s 114us/step - loss: 0.1473 - acc: 0.9445 - val_loss: 0.3268 - val_acc: 0.8943\n",
            "Epoch 10/10\n",
            "60000/60000 [==============================] - 7s 116us/step - loss: 0.1431 - acc: 0.9457 - val_loss: 0.3180 - val_acc: 0.9007\n"
          ],
          "name": "stdout"
        },
        {
          "output_type": "display_data",
          "data": {
            "image/png": "[encoded data removed]",
            "text/plain": [
              "<Figure size 432x288 with 1 Axes>"
            ]
          },
          "metadata": {
            "tags": []
          }
        },
        {
          "output_type": "display_data",
          "data": {
            "image/png": "[encoded data removed]",
            "text/plain": [
              "<Figure size 432x288 with 1 Axes>"
            ]
          },
          "metadata": {
            "tags": []
          }
        }
      ]
    },
    {
      "cell_type": "markdown",
      "metadata": {
        "id": "PF_WqwxNZ-st",
        "colab_type": "text"
      },
      "source": [
        "# Download Cifar10"
      ]
    },
    {
      "cell_type": "code",
      "metadata": {
        "id": "a3gUYohLaLMz",
        "colab_type": "code",
        "outputId": "619d8ecc-d8e5-491d-e8ba-c94e8830f074",
        "colab": {
          "base_uri": "https://localhost:8080/",
          "height": 391
        }
      },
      "source": [
        "#import packages\n",
        "from keras.datasets import cifar10\n",
        "from keras.models import Sequential\n",
        "from keras.layers import Dense, Dropout, Activation, Flatten\n",
        "from keras.utils import to_categorical\n",
        "\n",
        "#import dataset\n",
        "(X_train, y_train), (X_test, y_test) = cifar10.load_data()\n",
        "\n",
        "#change shape from image to vector\n",
        "X_train = X_train.reshape(50000, 32 * 32 * 3)\n",
        "X_test = X_test.reshape(10000, 32 * 32 * 3)\n",
        "\n",
        "#preprocess\n",
        "X_train = X_train.astype('float32')\n",
        "X_test = X_test.astype('float32')\n",
        "X_train /= 255.0\n",
        "X_test /= 255.0\n",
        "\n",
        "#change labels from numeric to one hot encoded\n",
        "Y_train = to_categorical(y_train, 10)\n",
        "Y_test =  to_categorical(y_test, 10)\n",
        "\n",
        "model2=Sequential()\n",
        "#model2.add(Dense(1024,activation='relu',input_shape=(3072, )))\n",
        "#model2.add(Dense(512,activation='relu'))\n",
        "#model2.add(Dense(512,activation='relu'))\n",
        "#model2.add(Dense(1024,activation='softmax'))\n",
        "model2.add(Dense(1024, input_shape=(3072, )))\n",
        "model2.add(Activation('relu'))\n",
        "model2.add(Dense(512))\n",
        "model2.add(Activation('relu'))\n",
        "model2.add(Dense(512))\n",
        "model2.add(Activation('relu'))\n",
        "model2.add(Dense(10))\n",
        "model2.add(Activation('softmax'))\n",
        "model2.compile(loss='categorical_crossentropy', optimizer='adam' , metrics=['accuracy'])\n",
        "#model2.fit(X_train,y_train, batch_size=128,nb_epoch=10 , verbose=1,validation_data=(X_test, Y_test))\n",
        "#history=model2.fit(X_train, Y_train,batch_size=128, nb_epoch=10,verbose=1,validation_data=(X_test, Y_test))\n",
        "\n",
        "model = Sequential()\n",
        "model.add(Dense(1024, input_shape=(3072, )))\n",
        "model.add(Activation('relu'))\n",
        "model.add(Dense(512))\n",
        "model.add(Activation('relu'))\n",
        "model.add(Dense(512))\n",
        "model.add(Activation('relu'))\n",
        "model.add(Dense(10))\n",
        "model.add(Activation('softmax'))\n",
        "\n",
        "model.compile(loss='categorical_crossentropy',\n",
        "                  optimizer='adam',\n",
        "                  metrics=['accuracy'])\n",
        "    \n",
        " \n",
        "\n",
        "# training\n",
        "history = model.fit(X_train, Y_train,\n",
        "                        batch_size=128,\n",
        "                        nb_epoch=10,\n",
        "                        verbose=1,\n",
        "                        validation_data=(X_test, Y_test))"
      ],
      "execution_count": 0,
      "outputs": [
        {
          "output_type": "stream",
          "text": [
            "/usr/local/lib/python3.6/dist-packages/ipykernel_launcher.py:61: UserWarning: The `nb_epoch` argument in `fit` has been renamed `epochs`.\n"
          ],
          "name": "stderr"
        },
        {
          "output_type": "stream",
          "text": [
            "Train on 50000 samples, validate on 10000 samples\n",
            "Epoch 1/10\n",
            "50000/50000 [==============================] - 37s 743us/step - loss: 1.8648 - acc: 0.3204 - val_loss: 1.7829 - val_acc: 0.3577\n",
            "Epoch 2/10\n",
            "50000/50000 [==============================] - 36s 717us/step - loss: 1.6619 - acc: 0.4023 - val_loss: 1.6326 - val_acc: 0.4086\n",
            "Epoch 3/10\n",
            "50000/50000 [==============================] - 36s 727us/step - loss: 1.5746 - acc: 0.4351 - val_loss: 1.5283 - val_acc: 0.4561\n",
            "Epoch 4/10\n",
            "50000/50000 [==============================] - 36s 722us/step - loss: 1.5146 - acc: 0.4577 - val_loss: 1.5526 - val_acc: 0.4466\n",
            "Epoch 5/10\n",
            "50000/50000 [==============================] - 36s 725us/step - loss: 1.4656 - acc: 0.4762 - val_loss: 1.4674 - val_acc: 0.4783\n",
            "Epoch 6/10\n",
            "50000/50000 [==============================] - 36s 719us/step - loss: 1.4244 - acc: 0.4893 - val_loss: 1.4516 - val_acc: 0.4802\n",
            "Epoch 7/10\n",
            "50000/50000 [==============================] - 36s 720us/step - loss: 1.3813 - acc: 0.5079 - val_loss: 1.4582 - val_acc: 0.4852\n",
            "Epoch 8/10\n",
            "50000/50000 [==============================] - 36s 725us/step - loss: 1.3611 - acc: 0.5115 - val_loss: 1.4081 - val_acc: 0.5039\n",
            "Epoch 9/10\n",
            "50000/50000 [==============================] - 36s 721us/step - loss: 1.3219 - acc: 0.5252 - val_loss: 1.4063 - val_acc: 0.5056\n",
            "Epoch 10/10\n",
            "50000/50000 [==============================] - 36s 721us/step - loss: 1.2954 - acc: 0.5360 - val_loss: 1.4115 - val_acc: 0.4956\n"
          ],
          "name": "stdout"
        }
      ]
    },
    {
      "cell_type": "code",
      "metadata": {
        "id": "p-OR1KX2ayBj",
        "colab_type": "code",
        "outputId": "17d68349-1001-4b51-ecef-4c1b7f530015",
        "colab": {
          "base_uri": "https://localhost:8080/",
          "height": 573
        }
      },
      "source": [
        "import matplotlib.pyplot as plt\n",
        "# Plot training & validation accuracy values\n",
        "plt.plot(history.history['acc'])\n",
        "plt.plot(history.history['val_acc'])\n",
        "plt.title('Model accuracy')\n",
        "plt.ylabel('Accuracy')\n",
        "plt.xlabel('Epoch')\n",
        "plt.legend(['Train', 'Test'], loc='upper left')\n",
        "plt.show()\n",
        "\n",
        "# Plot training & validation loss values\n",
        "plt.plot(history.history['loss'])\n",
        "plt.plot(history.history['val_loss'])\n",
        "plt.title('Model loss')\n",
        "plt.ylabel('Loss')\n",
        "plt.xlabel('Epoch')\n",
        "plt.legend(['Train', 'Test'], loc='upper left')\n",
        "plt.show()"
      ],
      "execution_count": 0,
      "outputs": [
        {
          "output_type": "display_data",
          "data": {
            "image/png": "[encoded data removed]",
            "text/plain": [
              "<Figure size 432x288 with 1 Axes>"
            ]
          },
          "metadata": {
            "tags": []
          }
        },
        {
          "output_type": "display_data",
          "data": {
            "image/png": "[encoded data removed]",
            "text/plain": [
              "<Figure size 432x288 with 1 Axes>"
            ]
          },
          "metadata": {
            "tags": []
          }
        }
      ]
    }
  ]
}